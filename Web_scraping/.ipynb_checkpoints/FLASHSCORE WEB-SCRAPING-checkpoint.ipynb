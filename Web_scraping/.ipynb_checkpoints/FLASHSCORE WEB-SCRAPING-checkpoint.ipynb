{
 "cells": [
  {
   "cell_type": "code",
   "execution_count": 1,
   "id": "2db94df9",
   "metadata": {},
   "outputs": [],
   "source": [
    "import pandas as pd\n",
    "import requests\n",
    "from bs4 import BeautifulSoup\n",
    "import json\n",
    "import numpy as np"
   ]
  },
  {
   "cell_type": "code",
   "execution_count": 2,
   "id": "362d4c31",
   "metadata": {},
   "outputs": [
    {
     "data": {
      "text/plain": [
       "<Response [200]>"
      ]
     },
     "execution_count": 2,
     "metadata": {},
     "output_type": "execute_result"
    }
   ],
   "source": [
    "base_url = 'http://www.flashscore.mobi/?d=-1'\n",
    "data = requests.get(base_url, 'html.parser')\n",
    "data"
   ]
  },
  {
   "cell_type": "code",
   "execution_count": 3,
   "id": "864f5b24",
   "metadata": {},
   "outputs": [
    {
     "data": {
      "text/plain": [
       "1"
      ]
     },
     "execution_count": 3,
     "metadata": {},
     "output_type": "execute_result"
    }
   ],
   "source": [
    "soup = BeautifulSoup(data.text, features=\"xml\")\n",
    "matches = soup.select('#score-data')\n",
    "\n",
    "len(matches)"
   ]
  },
  {
   "cell_type": "code",
   "execution_count": 4,
   "id": "95ae6052",
   "metadata": {},
   "outputs": [],
   "source": [
    "league_name = matches[0].find_all('h4')\n"
   ]
  },
  {
   "cell_type": "code",
   "execution_count": 5,
   "id": "03dbe26c",
   "metadata": {
    "scrolled": true
   },
   "outputs": [],
   "source": [
    "all_matches = matches[0].find_all('a')"
   ]
  },
  {
   "cell_type": "code",
   "execution_count": 6,
   "id": "813aaa4e",
   "metadata": {},
   "outputs": [],
   "source": [
    "single_match = [m.get('href') for m in all_matches]\n",
    "single_match = [f\"http://www.flashscore.mobi{m}\" for m in single_match]\n"
   ]
  },
  {
   "cell_type": "code",
   "execution_count": null,
   "id": "ca2f85bc",
   "metadata": {},
   "outputs": [],
   "source": [
    "# single_match_url = requests.get(single_match[0], 'html.parser')\n",
    "# soup1 = BeautifulSoup(single_match_url.text, features=\"xml\")\n",
    "\n",
    "\n",
    "for game in single_match:\n",
    "    a = requests.get(game, 'html.parser')\n",
    "    b = BeautifulSoup(a.text, features=\"xml\")\n",
    "    \n",
    "    detail_tab = game + '&t=match-statistics' \n",
    "#     ht_ft_score = b.select('.detail')\n",
    "#     fulltime = []\n",
    "#     for game in ht_ft_score:\n",
    "#         game = game.find(text=True, recursive=False)\n",
    "#         fulltime.append(game)\n",
    "#     single_match_stats_page = requests.get(detail_tab, 'xhtml.parser')\n",
    "#     soup2 = BeautifulSoup(single_match_stats_page.text)\n",
    "#     home = soup2.select('.stat__homeValue')\n",
    "#     home = [h.text for h in home]\n",
    "#     stat = soup2.select('.stat__categoryName')\n",
    "#     stat = [s.text for s in stat]\n",
    "#     away = soup2.select('.stat__awayValue')\n",
    "#     away = [a.text for a in away]\n"
   ]
  },
  {
   "cell_type": "code",
   "execution_count": null,
   "id": "9b6a9c43",
   "metadata": {},
   "outputs": [],
   "source": [
    "# ht_ft_score = soup1.select('.detail')\n",
    "# ht_ft_score_fin =  ht_ft_score[0].find(text=True, recursive=False)"
   ]
  },
  {
   "cell_type": "code",
   "execution_count": null,
   "id": "f0ecb7d7",
   "metadata": {},
   "outputs": [],
   "source": [
    "# detail_tabs_url = single_match[0] + '&t=match-statistics' \n",
    "# detail_tabs_url"
   ]
  },
  {
   "cell_type": "code",
   "execution_count": null,
   "id": "1ca11a03",
   "metadata": {},
   "outputs": [],
   "source": [
    "single_match_stats_page = requests.get(detail_tabs_url, 'xhtml.parser')\n",
    "soup2 = BeautifulSoup(single_match_stats_page.text)\n"
   ]
  },
  {
   "cell_type": "code",
   "execution_count": null,
   "id": "f57a75f9",
   "metadata": {},
   "outputs": [],
   "source": [
    "home = soup2.select('.stat__homeValue')\n",
    "home = [h.text for h in home]\n"
   ]
  },
  {
   "cell_type": "code",
   "execution_count": null,
   "id": "fcd43062",
   "metadata": {},
   "outputs": [],
   "source": [
    "stat = soup2.select('.stat__categoryName')\n",
    "stat = [s.text for s in stat]\n"
   ]
  },
  {
   "cell_type": "code",
   "execution_count": null,
   "id": "89aa4788",
   "metadata": {},
   "outputs": [],
   "source": [
    "away = soup2.select('.stat__awayValue')\n",
    "away = [a.text for a in away]\n"
   ]
  },
  {
   "cell_type": "code",
   "execution_count": null,
   "id": "0e42b3be",
   "metadata": {},
   "outputs": [],
   "source": [
    "match_stats = pd.DataFrame(list(zip(stat, home, away)), columns = ['Category', 'Home Team', 'Away Team'])"
   ]
  },
  {
   "cell_type": "code",
   "execution_count": null,
   "id": "3b201152",
   "metadata": {},
   "outputs": [],
   "source": [
    "match_stats"
   ]
  },
  {
   "cell_type": "code",
   "execution_count": null,
   "id": "8644ea69",
   "metadata": {},
   "outputs": [],
   "source": []
  },
  {
   "cell_type": "code",
   "execution_count": null,
   "id": "2c5b94fc",
   "metadata": {},
   "outputs": [],
   "source": []
  }
 ],
 "metadata": {
  "kernelspec": {
   "display_name": "Python 3 (ipykernel)",
   "language": "python",
   "name": "python3"
  },
  "language_info": {
   "codemirror_mode": {
    "name": "ipython",
    "version": 3
   },
   "file_extension": ".py",
   "mimetype": "text/x-python",
   "name": "python",
   "nbconvert_exporter": "python",
   "pygments_lexer": "ipython3",
   "version": "3.9.12"
  }
 },
 "nbformat": 4,
 "nbformat_minor": 5
}
