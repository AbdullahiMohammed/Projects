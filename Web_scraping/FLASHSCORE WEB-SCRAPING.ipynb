{
 "cells": [
  {
   "cell_type": "code",
   "execution_count": 1,
   "id": "2db94df9",
   "metadata": {},
   "outputs": [],
   "source": [
    "import pandas as pd\n",
    "import requests\n",
    "from bs4 import BeautifulSoup\n",
    "import json\n",
    "import numpy as np"
   ]
  },
  {
   "cell_type": "code",
   "execution_count": 2,
   "id": "362d4c31",
   "metadata": {},
   "outputs": [
    {
     "data": {
      "text/plain": [
       "<Response [200]>"
      ]
     },
     "execution_count": 2,
     "metadata": {},
     "output_type": "execute_result"
    }
   ],
   "source": [
    "base_url = 'http://www.flashscore.mobi/?d=-1'\n",
    "data = requests.get(base_url, 'html.parser')\n",
    "data"
   ]
  },
  {
   "cell_type": "code",
   "execution_count": 3,
   "id": "864f5b24",
   "metadata": {},
   "outputs": [
    {
     "data": {
      "text/plain": [
       "1"
      ]
     },
     "execution_count": 3,
     "metadata": {},
     "output_type": "execute_result"
    }
   ],
   "source": [
    "soup = BeautifulSoup(data.text, features=\"xml\")\n",
    "matches = soup.select('#score-data')\n",
    "\n",
    "len(matches)"
   ]
  },
  {
   "cell_type": "code",
   "execution_count": 4,
   "id": "95ae6052",
   "metadata": {},
   "outputs": [],
   "source": [
    "league_name = matches[0].find_all('h4')\n"
   ]
  },
  {
   "cell_type": "code",
   "execution_count": 5,
   "id": "03dbe26c",
   "metadata": {
    "scrolled": true
   },
   "outputs": [],
   "source": [
    "all_matches = matches[0].find_all('a')"
   ]
  },
  {
   "cell_type": "code",
   "execution_count": 6,
   "id": "813aaa4e",
   "metadata": {},
   "outputs": [],
   "source": [
    "single_match = [m.get('href') for m in all_matches]\n",
    "single_match = [f\"http://www.flashscore.mobi{m}\" for m in single_match]\n"
   ]
  },
  {
   "cell_type": "code",
   "execution_count": 7,
   "id": "ca2f85bc",
   "metadata": {},
   "outputs": [
    {
     "ename": "TypeError",
     "evalue": "find() takes no keyword arguments",
     "output_type": "error",
     "traceback": [
      "\u001b[1;31m---------------------------------------------------------------------------\u001b[0m",
      "\u001b[1;31mTypeError\u001b[0m                                 Traceback (most recent call last)",
      "Input \u001b[1;32mIn [7]\u001b[0m, in \u001b[0;36m<cell line: 5>\u001b[1;34m()\u001b[0m\n\u001b[0;32m     19\u001b[0m     a \u001b[38;5;241m=\u001b[39m requests\u001b[38;5;241m.\u001b[39mget(detail_tab, \u001b[38;5;124m'\u001b[39m\u001b[38;5;124mxhtml.parser\u001b[39m\u001b[38;5;124m'\u001b[39m)\n\u001b[0;32m     20\u001b[0m     b \u001b[38;5;241m=\u001b[39m BeautifulSoup(a\u001b[38;5;241m.\u001b[39mtext, features\u001b[38;5;241m=\u001b[39m\u001b[38;5;124m\"\u001b[39m\u001b[38;5;124mxml\u001b[39m\u001b[38;5;124m\"\u001b[39m)\n\u001b[1;32m---> 21\u001b[0m     c \u001b[38;5;241m=\u001b[39m \u001b[43mgame\u001b[49m\u001b[38;5;241;43m.\u001b[39;49m\u001b[43mfind\u001b[49m\u001b[43m(\u001b[49m\u001b[43mtext\u001b[49m\u001b[38;5;241;43m=\u001b[39;49m\u001b[38;5;28;43;01mTrue\u001b[39;49;00m\u001b[43m,\u001b[49m\u001b[43m \u001b[49m\u001b[43mrecursive\u001b[49m\u001b[38;5;241;43m=\u001b[39;49m\u001b[38;5;28;43;01mFalse\u001b[39;49;00m\u001b[43m)\u001b[49m\n\u001b[0;32m     22\u001b[0m \u001b[38;5;66;03m#     fulltime.append(c)\u001b[39;00m\n\u001b[0;32m     25\u001b[0m     c \u001b[38;5;241m=\u001b[39m fulltime[\u001b[38;5;241m0\u001b[39m]    \n",
      "\u001b[1;31mTypeError\u001b[0m: find() takes no keyword arguments"
     ]
    }
   ],
   "source": [
    "# single_match_url = requests.get(single_match[0], 'html.parser')\n",
    "# soup1 = BeautifulSoup(single_match_url.text, features=\"xml\")\n",
    "\n",
    "\n",
    "for game in single_match[:2]:\n",
    "    a = requests.get(game, 'html.parser')\n",
    "    b = BeautifulSoup(a.text, features=\"xml\")\n",
    "        \n",
    "    team = b.find('h3').text\n",
    "    home_team = team.split('-')[0]\n",
    "    away_team = team.split('-')[-1]\n",
    "        \n",
    "    detail_tab = game + '&t=match-statistics' \n",
    "    ht_ft_score = b.select('.detail')\n",
    "    \n",
    "    fulltime = []\n",
    "    \n",
    "    \n",
    "    a = requests.get(detail_tab, 'xhtml.parser')\n",
    "    b = BeautifulSoup(a.text, features=\"xml\")\n",
    "    c = game.find(text=True, recursive=False)\n",
    "#     fulltime.append(c)\n",
    "    \n",
    "    \n",
    "    c = fulltime[0]    \n",
    "    ht_score = c.replace('(', \"\").replace(')',\"\").split(',')[0]\n",
    "    ft_score = c.replace('(', \"\").replace(')',\"\").split(',')[-1]\n",
    "    \n",
    "\n",
    "    soup2 = BeautifulSoup(single_match_stats_page.text)\n",
    "    game = game.find(text=True, recursive=False)\n",
    "    home = soup2.select('.stat__homeValue')\n",
    "    home = [h.text for h in home]\n",
    "    stat = soup2.select('.stat__categoryName')\n",
    "    stat = [s.text for s in stat]\n",
    "    away = soup2.select('.stat__awayValue')\n",
    "    away = [a.text for a in away]\n",
    "    match_stats = pd.DataFrame(list(zip(home_team, away_team,ht_score, ft_score,stat ,home, away)), columns = ['Home_team', 'Away_team','ht_score','ft_score', 'Category', 'Home stat', 'Away stat'])\n",
    "\n",
    "print(match_stats)"
   ]
  },
  {
   "cell_type": "code",
   "execution_count": null,
   "id": "9b6a9c43",
   "metadata": {},
   "outputs": [],
   "source": [
    "# ht_ft_score = soup1.select('.detail')\n",
    "# ht_ft_score_fin =  ht_ft_score[0].find(text=True, recursive=False)\n",
    "for game in single_match[:1]:\n",
    "    a = requests.get(game, 'html.parser')\n",
    "    b = BeautifulSoup(a.text, features=\"xml\")\n",
    "    day = b.select('div.detail')\n",
    "    for d in day:\n",
    "        d = d.find_all('.detail')\n",
    "        print(d)"
   ]
  },
  {
   "cell_type": "code",
   "execution_count": null,
   "id": "f0ecb7d7",
   "metadata": {},
   "outputs": [],
   "source": [
    "# detail_tabs_url = single_match[0] + '&t=match-statistics' \n",
    "# detail_tabs_url"
   ]
  },
  {
   "cell_type": "code",
   "execution_count": null,
   "id": "1ca11a03",
   "metadata": {},
   "outputs": [],
   "source": [
    "single_match_stats_page = requests.get(detail_tabs_url, 'xhtml.parser')\n",
    "soup2 = BeautifulSoup(single_match_stats_page.text)\n"
   ]
  },
  {
   "cell_type": "code",
   "execution_count": null,
   "id": "f57a75f9",
   "metadata": {},
   "outputs": [],
   "source": [
    "home = soup2.select('.stat__homeValue')\n",
    "home = [h.text for h in home]\n"
   ]
  },
  {
   "cell_type": "code",
   "execution_count": null,
   "id": "fcd43062",
   "metadata": {},
   "outputs": [],
   "source": [
    "stat = soup2.select('.stat__categoryName')\n",
    "stat = [s.text for s in stat]\n"
   ]
  },
  {
   "cell_type": "code",
   "execution_count": null,
   "id": "89aa4788",
   "metadata": {},
   "outputs": [],
   "source": [
    "away = soup2.select('.stat__awayValue')\n",
    "away = [a.text for a in away]\n"
   ]
  },
  {
   "cell_type": "code",
   "execution_count": null,
   "id": "0e42b3be",
   "metadata": {},
   "outputs": [],
   "source": [
    "match_stats = pd.DataFrame(list(zip(stat, home, away)), columns = ['Category', 'Home Team', 'Away Team'])"
   ]
  },
  {
   "cell_type": "code",
   "execution_count": null,
   "id": "3b201152",
   "metadata": {},
   "outputs": [],
   "source": [
    "match_stats"
   ]
  },
  {
   "cell_type": "code",
   "execution_count": null,
   "id": "8644ea69",
   "metadata": {},
   "outputs": [],
   "source": []
  },
  {
   "cell_type": "code",
   "execution_count": null,
   "id": "2c5b94fc",
   "metadata": {},
   "outputs": [],
   "source": []
  }
 ],
 "metadata": {
  "kernelspec": {
   "display_name": "Python 3 (ipykernel)",
   "language": "python",
   "name": "python3"
  },
  "language_info": {
   "codemirror_mode": {
    "name": "ipython",
    "version": 3
   },
   "file_extension": ".py",
   "mimetype": "text/x-python",
   "name": "python",
   "nbconvert_exporter": "python",
   "pygments_lexer": "ipython3",
   "version": "3.9.12"
  }
 },
 "nbformat": 4,
 "nbformat_minor": 5
}
