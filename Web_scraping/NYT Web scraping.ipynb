{
 "cells": [
  {
   "cell_type": "code",
   "execution_count": 16,
   "id": "31d2b82d",
   "metadata": {},
   "outputs": [],
   "source": [
    "from bs4 import BeautifulSoup\n",
    "import pandas as pd"
   ]
  },
  {
   "cell_type": "code",
   "execution_count": 17,
   "id": "00a200bf",
   "metadata": {},
   "outputs": [],
   "source": [
    "with open('NYT.html', 'r') as f:\n",
    "    page = f.read()"
   ]
  },
  {
   "cell_type": "code",
   "execution_count": 18,
   "id": "141e6d55",
   "metadata": {},
   "outputs": [],
   "source": [
    "soup = BeautifulSoup(page, 'html.parser')"
   ]
  },
  {
   "cell_type": "code",
   "execution_count": 19,
   "id": "a4a47560",
   "metadata": {},
   "outputs": [
    {
     "data": {
      "text/plain": [
       "[<h3 class=\"css-5pe77f\" itemprop=\"name\">LONG SHADOWS</h3>,\n",
       " <h3 class=\"css-5pe77f\" itemprop=\"name\">THE MAZE</h3>,\n",
       " <h3 class=\"css-5pe77f\" itemprop=\"name\">VERITY</h3>,\n",
       " <h3 class=\"css-5pe77f\" itemprop=\"name\">IT ENDS WITH US</h3>,\n",
       " <h3 class=\"css-5pe77f\" itemprop=\"name\">FAIRY TALE</h3>,\n",
       " <h3 class=\"css-5pe77f\" itemprop=\"name\">WHERE THE CRAWDADS SING</h3>,\n",
       " <h3 class=\"css-5pe77f\" itemprop=\"name\">UGLY LOVE</h3>,\n",
       " <h3 class=\"css-5pe77f\" itemprop=\"name\">MAD HONEY</h3>,\n",
       " <h3 class=\"css-5pe77f\" itemprop=\"name\">DREAMLAND</h3>,\n",
       " <h3 class=\"css-5pe77f\" itemprop=\"name\">THE HIGH NOTES</h3>,\n",
       " <h3 class=\"css-5pe77f\" itemprop=\"name\">DISTANT THUNDER</h3>,\n",
       " <h3 class=\"css-5pe77f\" itemprop=\"name\">DARK WHISPER</h3>,\n",
       " <h3 class=\"css-5pe77f\" itemprop=\"name\">RIGHTEOUS PREY</h3>,\n",
       " <h3 class=\"css-5pe77f\" itemprop=\"name\">THE SEVEN HUSBANDS OF EVELYN HUGO</h3>,\n",
       " <h3 class=\"css-5pe77f\" itemprop=\"name\">OUR MISSING HEARTS</h3>]"
      ]
     },
     "execution_count": 19,
     "metadata": {},
     "output_type": "execute_result"
    }
   ],
   "source": [
    "title = soup.select('article h3[itemprop = name]')\n",
    "title"
   ]
  },
  {
   "cell_type": "code",
   "execution_count": 20,
   "id": "83488257",
   "metadata": {},
   "outputs": [
    {
     "data": {
      "text/plain": [
       "['LONG SHADOWS',\n",
       " 'THE MAZE',\n",
       " 'VERITY',\n",
       " 'IT ENDS WITH US',\n",
       " 'FAIRY TALE',\n",
       " 'WHERE THE CRAWDADS SING',\n",
       " 'UGLY LOVE',\n",
       " 'MAD HONEY',\n",
       " 'DREAMLAND',\n",
       " 'THE HIGH NOTES',\n",
       " 'DISTANT THUNDER',\n",
       " 'DARK WHISPER',\n",
       " 'RIGHTEOUS PREY',\n",
       " 'THE SEVEN HUSBANDS OF EVELYN HUGO',\n",
       " 'OUR MISSING HEARTS']"
      ]
     },
     "execution_count": 20,
     "metadata": {},
     "output_type": "execute_result"
    }
   ],
   "source": [
    "titles = [t.text for t in title]\n",
    "titles"
   ]
  },
  {
   "cell_type": "code",
   "execution_count": 21,
   "id": "55d9c463",
   "metadata": {},
   "outputs": [
    {
     "data": {
      "text/plain": [
       "[<p class=\"css-hjukut\" itemprop=\"author\">by David Baldacci</p>,\n",
       " <p class=\"css-hjukut\" itemprop=\"author\">by Nelson DeMille</p>,\n",
       " <p class=\"css-hjukut\" itemprop=\"author\">by Colleen Hoover</p>,\n",
       " <p class=\"css-hjukut\" itemprop=\"author\">by Colleen Hoover</p>,\n",
       " <p class=\"css-hjukut\" itemprop=\"author\">by Stephen King</p>,\n",
       " <p class=\"css-hjukut\" itemprop=\"author\">by Delia Owens</p>,\n",
       " <p class=\"css-hjukut\" itemprop=\"author\">by Colleen Hoover</p>,\n",
       " <p class=\"css-hjukut\" itemprop=\"author\">by Jodi Picoult and Jennifer Finney Boylan</p>,\n",
       " <p class=\"css-hjukut\" itemprop=\"author\">by Nicholas Sparks</p>,\n",
       " <p class=\"css-hjukut\" itemprop=\"author\">by Danielle Steel</p>,\n",
       " <p class=\"css-hjukut\" itemprop=\"author\">by Stuart Woods</p>,\n",
       " <p class=\"css-hjukut\" itemprop=\"author\">by Christine Feehan</p>,\n",
       " <p class=\"css-hjukut\" itemprop=\"author\">by John Sandford</p>,\n",
       " <p class=\"css-hjukut\" itemprop=\"author\">by Taylor Jenkins Reid</p>,\n",
       " <p class=\"css-hjukut\" itemprop=\"author\">by Celeste Ng</p>]"
      ]
     },
     "execution_count": 21,
     "metadata": {},
     "output_type": "execute_result"
    }
   ],
   "source": [
    "author = soup.select('article p[itemprop=author]')\n",
    "author"
   ]
  },
  {
   "cell_type": "code",
   "execution_count": 23,
   "id": "70cf298c",
   "metadata": {},
   "outputs": [
    {
     "data": {
      "text/plain": [
       "['David Baldacci',\n",
       " 'Nelson DeMille',\n",
       " 'Colleen Hoover',\n",
       " 'Colleen Hoover',\n",
       " 'Stephen King',\n",
       " 'Delia Owens',\n",
       " 'Colleen Hoover',\n",
       " 'Jodi Picoult and Jennifer Finney Boylan',\n",
       " 'Nicholas Sparks',\n",
       " 'Danielle Steel',\n",
       " 'Stuart Woods',\n",
       " 'Christine Feehan',\n",
       " 'John Sandford',\n",
       " 'Taylor Jenkins Reid',\n",
       " 'Celeste Ng']"
      ]
     },
     "execution_count": 23,
     "metadata": {},
     "output_type": "execute_result"
    }
   ],
   "source": [
    "authors = [a.text.replace('by ', '') for a in author]\n",
    "authors"
   ]
  },
  {
   "cell_type": "code",
   "execution_count": 24,
   "id": "5f84bcef",
   "metadata": {},
   "outputs": [
    {
     "data": {
      "text/plain": [
       "[<p class=\"css-heg334\" itemprop=\"publisher\">Grand Central</p>,\n",
       " <p class=\"css-heg334\" itemprop=\"publisher\">Scribner</p>,\n",
       " <p class=\"css-heg334\" itemprop=\"publisher\">Grand Central</p>,\n",
       " <p class=\"css-heg334\" itemprop=\"publisher\">Atria</p>,\n",
       " <p class=\"css-heg334\" itemprop=\"publisher\">Scribner</p>,\n",
       " <p class=\"css-heg334\" itemprop=\"publisher\">Putnam</p>,\n",
       " <p class=\"css-heg334\" itemprop=\"publisher\">Atria</p>,\n",
       " <p class=\"css-heg334\" itemprop=\"publisher\">Ballantine</p>,\n",
       " <p class=\"css-heg334\" itemprop=\"publisher\">Random House</p>,\n",
       " <p class=\"css-heg334\" itemprop=\"publisher\">Delacorte</p>,\n",
       " <p class=\"css-heg334\" itemprop=\"publisher\">Putnam</p>,\n",
       " <p class=\"css-heg334\" itemprop=\"publisher\">Berkley</p>,\n",
       " <p class=\"css-heg334\" itemprop=\"publisher\">Putnam</p>,\n",
       " <p class=\"css-heg334\" itemprop=\"publisher\">Washington Square/Atria</p>,\n",
       " <p class=\"css-heg334\" itemprop=\"publisher\">Penguin Press</p>]"
      ]
     },
     "execution_count": 24,
     "metadata": {},
     "output_type": "execute_result"
    }
   ],
   "source": [
    "publisher = soup.select('article p[itemprop=publisher]')\n",
    "publisher"
   ]
  },
  {
   "cell_type": "code",
   "execution_count": 25,
   "id": "50bdd99e",
   "metadata": {},
   "outputs": [
    {
     "data": {
      "text/plain": [
       "['Grand Central',\n",
       " 'Scribner',\n",
       " 'Grand Central',\n",
       " 'Atria',\n",
       " 'Scribner',\n",
       " 'Putnam',\n",
       " 'Atria',\n",
       " 'Ballantine',\n",
       " 'Random House',\n",
       " 'Delacorte',\n",
       " 'Putnam',\n",
       " 'Berkley',\n",
       " 'Putnam',\n",
       " 'Washington Square/Atria',\n",
       " 'Penguin Press']"
      ]
     },
     "execution_count": 25,
     "metadata": {},
     "output_type": "execute_result"
    }
   ],
   "source": [
    "publishers = [p.text for p in publisher]\n",
    "publishers\n"
   ]
  },
  {
   "cell_type": "code",
   "execution_count": 34,
   "id": "ee00432b",
   "metadata": {},
   "outputs": [],
   "source": [
    "image = soup.select('img')"
   ]
  },
  {
   "cell_type": "code",
   "execution_count": 35,
   "id": "6ec55f9e",
   "metadata": {},
   "outputs": [
    {
     "data": {
      "text/plain": [
       "['https://storage.googleapis.com/du-prd/books/images/9781538719824.jpg',\n",
       " 'https://storage.googleapis.com/du-prd/books/images/9781501101786.jpg',\n",
       " 'https://storage.googleapis.com/du-prd/books/images/9781791392796.jpg',\n",
       " 'https://storage.googleapis.com/du-prd/books/images/9781501110375.jpg',\n",
       " 'https://storage.googleapis.com/du-prd/books/images/9781668002179.jpg',\n",
       " 'https://storage.googleapis.com/du-prd/books/images/9780735219090.jpg',\n",
       " 'https://storage.googleapis.com/du-prd/books/images/9781476753195.jpg',\n",
       " 'https://storage.googleapis.com/du-prd/books/images/9781984818386.jpg',\n",
       " 'https://storage.googleapis.com/du-prd/books/images/9780593449554.jpg',\n",
       " 'https://storage.googleapis.com/du-prd/books/images/9781984821744.jpg',\n",
       " 'https://storage.googleapis.com/du-prd/books/images/9780593540039.jpg',\n",
       " 'https://storage.googleapis.com/du-prd/books/images/9780593439173.jpg',\n",
       " 'https://storage.googleapis.com/du-prd/books/images/9780593422472.jpg',\n",
       " 'https://storage.googleapis.com/du-prd/books/images/9781501161933.jpg',\n",
       " 'https://storage.googleapis.com/du-prd/books/images/9780593492543.jpg']"
      ]
     },
     "execution_count": 35,
     "metadata": {},
     "output_type": "execute_result"
    }
   ],
   "source": [
    "images = [img['src'] for img in image]\n",
    "images"
   ]
  },
  {
   "cell_type": "code",
   "execution_count": 36,
   "id": "f8b143f6",
   "metadata": {},
   "outputs": [
    {
     "data": {
      "text/plain": [
       "[('LONG SHADOWS',\n",
       "  'David Baldacci',\n",
       "  'Grand Central',\n",
       "  'https://storage.googleapis.com/du-prd/books/images/9781538719824.jpg'),\n",
       " ('THE MAZE',\n",
       "  'Nelson DeMille',\n",
       "  'Scribner',\n",
       "  'https://storage.googleapis.com/du-prd/books/images/9781501101786.jpg'),\n",
       " ('VERITY',\n",
       "  'Colleen Hoover',\n",
       "  'Grand Central',\n",
       "  'https://storage.googleapis.com/du-prd/books/images/9781791392796.jpg'),\n",
       " ('IT ENDS WITH US',\n",
       "  'Colleen Hoover',\n",
       "  'Atria',\n",
       "  'https://storage.googleapis.com/du-prd/books/images/9781501110375.jpg'),\n",
       " ('FAIRY TALE',\n",
       "  'Stephen King',\n",
       "  'Scribner',\n",
       "  'https://storage.googleapis.com/du-prd/books/images/9781668002179.jpg'),\n",
       " ('WHERE THE CRAWDADS SING',\n",
       "  'Delia Owens',\n",
       "  'Putnam',\n",
       "  'https://storage.googleapis.com/du-prd/books/images/9780735219090.jpg'),\n",
       " ('UGLY LOVE',\n",
       "  'Colleen Hoover',\n",
       "  'Atria',\n",
       "  'https://storage.googleapis.com/du-prd/books/images/9781476753195.jpg'),\n",
       " ('MAD HONEY',\n",
       "  'Jodi Picoult and Jennifer Finney Boylan',\n",
       "  'Ballantine',\n",
       "  'https://storage.googleapis.com/du-prd/books/images/9781984818386.jpg'),\n",
       " ('DREAMLAND',\n",
       "  'Nicholas Sparks',\n",
       "  'Random House',\n",
       "  'https://storage.googleapis.com/du-prd/books/images/9780593449554.jpg'),\n",
       " ('THE HIGH NOTES',\n",
       "  'Danielle Steel',\n",
       "  'Delacorte',\n",
       "  'https://storage.googleapis.com/du-prd/books/images/9781984821744.jpg'),\n",
       " ('DISTANT THUNDER',\n",
       "  'Stuart Woods',\n",
       "  'Putnam',\n",
       "  'https://storage.googleapis.com/du-prd/books/images/9780593540039.jpg'),\n",
       " ('DARK WHISPER',\n",
       "  'Christine Feehan',\n",
       "  'Berkley',\n",
       "  'https://storage.googleapis.com/du-prd/books/images/9780593439173.jpg'),\n",
       " ('RIGHTEOUS PREY',\n",
       "  'John Sandford',\n",
       "  'Putnam',\n",
       "  'https://storage.googleapis.com/du-prd/books/images/9780593422472.jpg'),\n",
       " ('THE SEVEN HUSBANDS OF EVELYN HUGO',\n",
       "  'Taylor Jenkins Reid',\n",
       "  'Washington Square/Atria',\n",
       "  'https://storage.googleapis.com/du-prd/books/images/9781501161933.jpg'),\n",
       " ('OUR MISSING HEARTS',\n",
       "  'Celeste Ng',\n",
       "  'Penguin Press',\n",
       "  'https://storage.googleapis.com/du-prd/books/images/9780593492543.jpg')]"
      ]
     },
     "execution_count": 36,
     "metadata": {},
     "output_type": "execute_result"
    }
   ],
   "source": [
    "full_data= list(zip(titles, authors, publishers, images))\n",
    "full_data"
   ]
  },
  {
   "cell_type": "code",
   "execution_count": null,
   "id": "be0e4cb0",
   "metadata": {},
   "outputs": [],
   "source": []
  }
 ],
 "metadata": {
  "kernelspec": {
   "display_name": "Python 3 (ipykernel)",
   "language": "python",
   "name": "python3"
  },
  "language_info": {
   "codemirror_mode": {
    "name": "ipython",
    "version": 3
   },
   "file_extension": ".py",
   "mimetype": "text/x-python",
   "name": "python",
   "nbconvert_exporter": "python",
   "pygments_lexer": "ipython3",
   "version": "3.9.12"
  }
 },
 "nbformat": 4,
 "nbformat_minor": 5
}
