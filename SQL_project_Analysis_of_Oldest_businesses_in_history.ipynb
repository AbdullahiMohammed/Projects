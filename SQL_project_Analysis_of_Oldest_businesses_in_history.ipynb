{
  "cells": [
    {
      "cell_type": "markdown",
      "metadata": {
        "id": "view-in-github",
        "colab_type": "text"
      },
      "source": [
        "<a href=\"https://colab.research.google.com/github/AbdullahiMohammed/Projects/blob/main/SQL_project_Analysis_of_Oldest_businesses_in_history.ipynb\" target=\"_parent\"><img src=\"https://colab.research.google.com/assets/colab-badge.svg\" alt=\"Open In Colab\"/></a>"
      ]
    },
    {
      "metadata": {
        "dc": {
          "key": "3"
        },
        "deletable": false,
        "editable": false,
        "run_control": {
          "frozen": true
        },
        "tags": [
          "context"
        ],
        "id": "UDnfm4fQzK8Z"
      },
      "cell_type": "markdown",
      "source": [
        "## 1. The oldest business in the world\n",
        "<p><img src=\"https://assets.datacamp.com/production/repositories/5851/datasets/7dded924c6dc418d4a828f2f4daba99953c27a5a/400px-Eingang_zum_St._Peter_Stiftskeller.jpg\" alt=\"The entrance to St. Peter Stiftskeller, a restaurant in Saltzburg, Austria. The sign over the entrance shows &quot;803&quot; - the year the business opened.\"></p>\n",
        "<p><em>Image: St. Peter Stiftskeller, founded 803. Credit: <a href=\"https://commons.wikimedia.org/wiki/File:Eingang_zum_St._Peter_Stiftskeller.jpg\">Pakeha</a>.</em></p>\n",
        "<p>An important part of business is planning for the future and ensuring that the company survives changing market conditions. Some businesses do this really well and last for hundreds of years.</p>\n",
        "<p>BusinessFinancing.co.uk <a href=\"https://businessfinancing.co.uk/the-oldest-company-in-almost-every-country\">researched</a> the oldest company that is still in business in (almost) every country and compiled the results into a dataset. In this project, you'll explore that dataset to see what they found.</p>\n",
        "<p>The database contains three tables.</p>\n",
        "<h3 id=\"categories\"><code>categories</code></h3>\n",
        "<table>\n",
        "<thead>\n",
        "<tr>\n",
        "<th style=\"text-align:left;\">column</th>\n",
        "<th>type</th>\n",
        "<th>meaning</th>\n",
        "</tr>\n",
        "</thead>\n",
        "<tbody>\n",
        "<tr>\n",
        "<td style=\"text-align:left;\"><code>category_code</code></td>\n",
        "<td>varchar</td>\n",
        "<td>Code for the category of the business.</td>\n",
        "</tr>\n",
        "<tr>\n",
        "<td style=\"text-align:left;\"><code>category</code></td>\n",
        "<td>varchar</td>\n",
        "<td>Description of the business category.</td>\n",
        "</tr>\n",
        "</tbody>\n",
        "</table>\n",
        "<h3 id=\"countries\"><code>countries</code></h3>\n",
        "<table>\n",
        "<thead>\n",
        "<tr>\n",
        "<th style=\"text-align:left;\">column</th>\n",
        "<th>type</th>\n",
        "<th>meaning</th>\n",
        "</tr>\n",
        "</thead>\n",
        "<tbody>\n",
        "<tr>\n",
        "<td style=\"text-align:left;\"><code>country_code</code></td>\n",
        "<td>varchar</td>\n",
        "<td>ISO 3166-1 3-letter country code.</td>\n",
        "</tr>\n",
        "<tr>\n",
        "<td style=\"text-align:left;\"><code>country</code></td>\n",
        "<td>varchar</td>\n",
        "<td>Name of the country.</td>\n",
        "</tr>\n",
        "<tr>\n",
        "<td style=\"text-align:left;\"><code>continent</code></td>\n",
        "<td>varchar</td>\n",
        "<td>Name of the continent that the country exists in.</td>\n",
        "</tr>\n",
        "</tbody>\n",
        "</table>\n",
        "<h3 id=\"businesses\"><code>businesses</code></h3>\n",
        "<table>\n",
        "<thead>\n",
        "<tr>\n",
        "<th style=\"text-align:left;\">column</th>\n",
        "<th>type</th>\n",
        "<th>meaning</th>\n",
        "</tr>\n",
        "</thead>\n",
        "<tbody>\n",
        "<tr>\n",
        "<td style=\"text-align:left;\"><code>business</code></td>\n",
        "<td>varchar</td>\n",
        "<td>Name of the business.</td>\n",
        "</tr>\n",
        "<tr>\n",
        "<td style=\"text-align:left;\"><code>year_founded</code></td>\n",
        "<td>int</td>\n",
        "<td>Year the business was founded.</td>\n",
        "</tr>\n",
        "<tr>\n",
        "<td style=\"text-align:left;\"><code>category_code</code></td>\n",
        "<td>varchar</td>\n",
        "<td>Code for the category of the business.</td>\n",
        "</tr>\n",
        "<tr>\n",
        "<td style=\"text-align:left;\"><code>country_code</code></td>\n",
        "<td>char</td>\n",
        "<td>ISO 3166-1 3-letter country code.</td>\n",
        "</tr>\n",
        "</tbody>\n",
        "</table>\n",
        "<p>Let's begin by looking at the range of the founding years throughout the world.</p>"
      ]
    },
    {
      "metadata": {
        "dc": {
          "key": "3"
        },
        "tags": [
          "sample_code"
        ],
        "trusted": true,
        "id": "JqrUAn2wzK8m",
        "outputId": "798ed68b-016d-4c39-a44a-5b3ea425d68c"
      },
      "cell_type": "code",
      "source": [
        "%%sql \n",
        "postgresql:///oldestbusinesses\n",
        " \n",
        "-- Select the oldest and newest founding years from the businesses table\n",
        "select max(year_founded) as max, min(year_founded) as min from businesses"
      ],
      "execution_count": null,
      "outputs": [
        {
          "output_type": "stream",
          "text": "1 rows affected.\n",
          "name": "stdout"
        },
        {
          "output_type": "execute_result",
          "execution_count": 44,
          "data": {
            "text/plain": "[(1999, 578)]",
            "text/html": "<table>\n    <tr>\n        <th>max</th>\n        <th>min</th>\n    </tr>\n    <tr>\n        <td>1999</td>\n        <td>578</td>\n    </tr>\n</table>"
          },
          "metadata": {}
        }
      ]
    },
    {
      "metadata": {
        "dc": {
          "key": "12"
        },
        "deletable": false,
        "editable": false,
        "run_control": {
          "frozen": true
        },
        "tags": [
          "context"
        ],
        "id": "xzDZAo5GzK80"
      },
      "cell_type": "markdown",
      "source": [
        "## 2. How many businesses were founded before 1000?\n",
        "<p>Wow! That's a lot of variation between countries. In one country, the oldest business was only founded in 1999. By contrast, the oldest business in the world was founded back in 578. That's pretty incredible that a business has survived for more than a millennium.</p>\n",
        "<p>I wonder how many other businesses there are like that.</p>"
      ]
    },
    {
      "metadata": {
        "dc": {
          "key": "12"
        },
        "tags": [
          "sample_code"
        ],
        "trusted": true,
        "id": "eVsupNGWzK81",
        "outputId": "0e9ed299-cecb-4e4e-aa58-fdb9613c60ba"
      },
      "cell_type": "code",
      "source": [
        "%%sql\n",
        "\n",
        "-- Get the count of rows in businesses where the founding year was before 1000\n",
        "select count(*)\n",
        "from businesses\n",
        "where year_founded < 1000"
      ],
      "execution_count": null,
      "outputs": [
        {
          "output_type": "stream",
          "text": " * postgresql:///oldestbusinesses\n1 rows affected.\n",
          "name": "stdout"
        },
        {
          "output_type": "execute_result",
          "execution_count": 46,
          "data": {
            "text/plain": "[(6,)]",
            "text/html": "<table>\n    <tr>\n        <th>count</th>\n    </tr>\n    <tr>\n        <td>6</td>\n    </tr>\n</table>"
          },
          "metadata": {}
        }
      ]
    },
    {
      "metadata": {
        "dc": {
          "key": "19"
        },
        "deletable": false,
        "editable": false,
        "run_control": {
          "frozen": true
        },
        "tags": [
          "context"
        ],
        "id": "Nr0Mn7lczK86"
      },
      "cell_type": "markdown",
      "source": [
        "## 3. Which businesses were founded before 1000?\n",
        "<p>Having a count is all very well, but I'd like more detail. Which businesses have been around for more than a millennium?</p>"
      ]
    },
    {
      "metadata": {
        "dc": {
          "key": "19"
        },
        "tags": [
          "sample_code"
        ],
        "trusted": true,
        "id": "l9FE94D6zK88",
        "outputId": "73526832-42c7-49ad-d976-78259dc48842"
      },
      "cell_type": "code",
      "source": [
        "%%sql\n",
        "\n",
        "-- Select all columns from businesses where the founding year was before 1000\n",
        "-- Arrange the results from oldest to newest\n",
        "select * \n",
        "from businesses\n",
        "where year_founded > 1000\n",
        "order by year_founded "
      ],
      "execution_count": null,
      "outputs": [
        {
          "output_type": "stream",
          "text": " * postgresql:///oldestbusinesses\n157 rows affected.\n",
          "name": "stdout"
        },
        {
          "output_type": "execute_result",
          "execution_count": 48,
          "data": {
            "text/plain": "[('Marinelli Bell Foundry', 1040, 'CAT12', 'ITA'),\n ('Affligem Brewery', 1074, 'CAT9', 'BEL'),\n ('Munke Mølle', 1135, 'CAT12', 'DNK'),\n (\"Ma Yu Ching's Bucket Chicken House\", 1153, 'CAT4', 'CHN'),\n ('Casa de Ganaderos', 1218, 'CAT1', 'ESP'),\n ('Gasthof Sternen', 1230, 'CAT19', 'CHE'),\n ('Bochnia Salt Mine', 1248, 'CAT15', 'POL'),\n ('Drohobych salt plant', 1250, 'CAT12', 'UKR'),\n ('Kremnica Mint', 1328, 'CAT12', 'SVK'),\n ('The Brand Brewery', 1340, 'CAT9', 'NLD'),\n ('Skyllbergs bruk', 1346, 'CAT12', 'SWE'),\n ('Pivovar Broumov', 1348, 'CAT9', 'CZE'),\n ('Raeapteek', 1422, 'CAT14', 'EST'),\n ('Gostilna Gastuž', 1467, 'CAT19', 'SVN'),\n ('Mousel', 1511, 'CAT9', 'LUX'),\n ('CTT-Correios de Portugal SA', 1520, 'CAT16', 'PRT'),\n ('La Casa de Moneda de México', 1534, 'CAT12', 'MEX'),\n ('Casa Nacional de Moneda', 1565, 'CAT3', 'PER'),\n ('Çemberlitaş Hamamı', 1584, 'CAT19', 'TUR'),\n ('Cēsu Alus', 1590, 'CAT9', 'LVA'),\n ('Piraeus Bank', 1606, 'CAT3', 'GRC'),\n ('Casa de Moneda de Colombia', 1621, 'CAT12', 'COL'),\n ('Shirley Plantation', 1638, 'CAT1', 'USA'),\n ('Posten Norge', 1647, 'CAT16', 'NOR'),\n ('Fiskars', 1649, 'CAT7', 'FIN'),\n ('Hacienda Chuao', 1660, 'CAT11', 'VEN'),\n ('Gubernija', 1665, 'CAT9', 'LTU'),\n (\"Hudson's Bay Company\", 1670, 'CAT17', 'CAN'),\n ('Casa da Moeda do Brasil', 1694, 'CAT12', 'BRA'),\n ('Mount Gay Rum', 1703, 'CAT9', 'BRB'),\n ('Petrodvorets Watch Factory', 1721, 'CAT7', 'RUS'),\n ('Kraljevica Shipyard', 1729, 'CAT12', 'HRV'),\n ('Wadia Group', 1736, 'CAT12', 'IND'),\n ('Apatin Brewery', 1756, 'CAT9', 'SRB'),\n ('Rose Hall', 1770, 'CAT19', 'JAM'),\n ('Mauritius Post', 1772, 'CAT16', 'MUS'),\n ('Íslandspóstur', 1776, 'CAT16', 'ISL'),\n ('Zwack', 1790, 'CAT9', 'HUN'),\n ('Pos Malaysia', 1800, 'CAT16', 'MYS'),\n ('Pindad', 1808, 'CAT8', 'IDN'),\n ('Australia Post', 1809, 'CAT16', 'AUS'),\n ('Famae', 1811, 'CAT8', 'CHL'),\n ('NamPost', 1814, 'CAT16', 'NAM'),\n ('Singapore Post', 1819, 'CAT16', 'SGP'),\n ('Premier FMCG', 1820, 'CAT12', 'ZAF'),\n ('M. M. Ispahani Limited', 1820, 'CAT11', 'BGD'),\n ('Bank of the Province of Buenos Aires', 1822, 'CAT3', 'ARG'),\n ('House of Angostura', 1830, 'CAT9', 'TTO'),\n ('Bank Audi', 1830, 'CAT3', 'LBN'),\n ('George Steuart Group', 1835, 'CAT11', 'LKA'),\n ('Banks DIH', 1840, 'CAT11', 'GUY'),\n ('Pošta Crne Gore', 1841, 'CAT16', 'MNE'),\n ('House of Habib', 1841, 'CAT5', 'PAK'),\n ('House of Alireza', 1845, 'CAT6', 'SAU'),\n ('La Poste Tunisienne', 1847, 'CAT16', 'TUN'),\n ('Correios de Cabo Verde', 1849, 'CAT16', 'CPV'),\n ('Destileria Limtuaco', 1853, 'CAT9', 'PHL'),\n ('Egyptian National Railways', 1854, 'CAT2', 'EGY'),\n ('Azerbaijan Caspian Shipping Company', 1858, 'CAT2', 'AZE'),\n ('National Bank of Liechtenstein', 1861, 'CAT3', 'LIE'),\n ('Bank of New Zealand', 1861, 'CAT3', 'NZL'),\n ('Rhum Barbancourt', 1862, 'CAT9', 'HTI'),\n ('Olivaria Brewery', 1864, 'CAT9', 'BLR'),\n ('Sarajevska Pivara', 1864, 'CAT9', 'BIH'),\n ('National Railroad of Honduras', 1870, 'CAT2', 'HND'),\n ('Banco Nacional de Bolivia', 1871, 'CAT3', 'BOL'),\n ('Tutunski kombinat Prilep', 1873, 'CAT7', 'MKD'),\n ('Yerevan Ararat Brandy-Wine-Vodka Factory', 1877, 'CAT9', 'ARM'),\n ('Cafe Brasilero', 1877, 'CAT4', 'URY'),\n ('Arsenal AD', 1878, 'CAT8', 'BGR'),\n ('B.Grimm Group', 1878, 'CAT5', 'THA'),\n ('Ursus Breweries', 1878, 'CAT9', 'ROU'),\n ('Hamoud Boualem', 1878, 'CAT11', 'DZA'),\n ('Vietnam Railways', 1881, 'CAT2', 'VNM'),\n ('HSBC Bank Malta', 1882, 'CAT3', 'MLT'),\n ('La Poste du Togo', 1883, 'CAT16', 'TGO'),\n ('BMMI', 1883, 'CAT17', 'BHR'),\n ('KT Corporation', 1885, 'CAT18', 'KOR'),\n ('Bakdash', 1885, 'CAT4', 'SYR'),\n ('Société nationale des Chemins de fer du Congo', 1889, 'CAT2', 'COD'),\n ('Flor de Caña', 1890, 'CAT9', 'NIC'),\n ('M.H. Alshaya Co.', 1890, 'CAT17', 'KWT'),\n ('HSBC El Salvador', 1891, 'CAT3', 'SLV'),\n ('Standard Chartered Zimbabwe', 1892, 'CAT3', 'ZWE'),\n ('Beira Railroad Corporation', 1892, 'CAT2', 'MOZ'),\n ('First Bank of Nigeria', 1894, 'CAT3', 'NGA'),\n ('ZamPost', 1896, 'CAT16', 'ZMB'),\n ('KCB Group Limited', 1896, 'CAT3', 'KEN'),\n ('Bank of Taiwan', 1897, 'CAT3', 'TWN'),\n ('Bank of Cyprus', 1899, 'CAT3', 'CYP'),\n ('Ethio-Djibouti Railways', 1901, 'CAT2', 'DJI'),\n ('Belize Bank', 1902, 'CAT3', 'BLZ'),\n ('Bank of Georgia', 1903, 'CAT3', 'GEO'),\n ('National Bank of Panama', 1904, 'CAT3', 'PAN'),\n ('Attijariwafa Bank', 1904, 'CAT3', 'MAR'),\n ('National Bank of Ethiopia', 1906, 'CAT3', 'ETH'),\n ('Stanbic Bank Uganda Limited', 1906, 'CAT3', 'UGA'),\n ('Umma Bank', 1907, 'CAT3', 'LBY'),\n ('Florida Ice and Farm Company', 1908, 'CAT9', 'CRI'),\n ('The Chronicle (Dominica)', 1909, 'CAT13', 'DMA'),\n ('ALBtelecom', 1912, 'CAT18', 'ALB'),\n ('Bogatyr Access Komir', 1913, 'CAT15', 'KAZ'),\n ('Bank of Khartoum', 1913, 'CAT3', 'SDN'),\n ('Café Abu Salem', 1914, 'CAT4', 'ISR'),\n ('Rokel Commercial Bank', 1917, 'CAT3', 'SLE'),\n ('Corporación Multi Inversiones', 1920, 'CAT11', 'GTM'),\n ('National Port Authority', 1921, 'CAT2', 'LBR'),\n ('National Post Office', 1922, 'CAT16', 'RWA'),\n ('Dakar–Niger Railway', 1924, 'CAT2', 'SEN'),\n ('North Oil Company', 1928, 'CAT10', 'IRQ'),\n ('Cubana de Aviación', 1929, 'CAT2', 'CUB'),\n ('Spinzar Cotton Company', 1930, 'CAT1', 'AFG'),\n ('Arab Bank', 1930, 'CAT3', 'JOR'),\n ('Andbank', 1930, 'CAT3', 'AND'),\n ('Mongolian National Broadcaster', 1931, 'CAT13', 'MNG'),\n ('Tashkent Aviation Production Association', 1932, 'CAT12', 'UZB'),\n ('Tanzania Breweries Limited', 1933, 'CAT9', 'TZA'),\n ('Nepal Bank Limited', 1937, 'CAT3', 'NPL'),\n ('Petroleum Development Oman', 1937, 'CAT10', 'OMN'),\n ('1st National Bank of St Lucia', 1938, 'CAT3', 'LCA'),\n ('Liwa Chemicals', 1939, 'CAT12', 'ARE'),\n ('Asmara Brewery', 1939, 'CAT9', 'ERI'),\n ('Radio Mogadishu', 1943, 'CAT13', 'SOM'),\n (\"Kim Chong-t'ae Electric Locomotive Works\", 1945, 'CAT2', 'PRK'),\n ('La Poste', 1945, 'CAT16', 'CIV'),\n ('Banque Internationale pour la Centrafrique', 1946, 'CAT3', 'CAF'),\n ('Hua Ho Department Store', 1947, 'CAT17', 'BRN'),\n ('Cameroon Development Corporation', 1947, 'CAT1', 'CMR'),\n ('Myanmar National Airlines', 1948, 'CAT2', 'MMR'),\n ('Salam International Investment Limited', 1952, 'CAT5', 'QAT'),\n ('National Bank of Cambodia', 1954, 'CAT3', 'KHM'),\n ('Brarudi', 1955, 'CAT9', 'BDI'),\n ('Office de Radiodiffusion-Télévision du Mali', 1957, 'CAT13', 'MLI'),\n ('Electricite du Laos', 1959, 'CAT10', 'LAO'),\n ('Tashi Group', 1959, 'CAT2', 'BTN'),\n ('Office of Radio and Television of Niger', 1960, 'CAT13', 'NER'),\n ('Halco Mining', 1962, 'CAT15', 'GIN'),\n ('Air Madagascar', 1962, 'CAT2', 'MDG'),\n ('Yemenia Airways', 1962, 'CAT2', 'YEM'),\n ('Swazi Rail', 1963, 'CAT2', 'SWZ'),\n ('Malawi Broadcasting Corporation', 1964, 'CAT13', 'MWI'),\n ('Botswana Meat Commission', 1965, 'CAT1', 'BWA'),\n ('Air Burkina', 1967, 'CAT2', 'BFA'),\n ('Communauté Électrique du Bénin', 1968, 'CAT10', 'BEN'),\n ('BGFIBank Group', 1971, 'CAT3', 'GAB'),\n ('Cotontchad', 1971, 'CAT1', 'TCD'),\n ('Correios da Guiné-Bissau', 1973, 'CAT16', 'GNB'),\n ('Central Bank of Mauritania', 1973, 'CAT3', 'MRT'),\n ('Central Bank of São Tomé and Príncipe', 1975, 'CAT3', 'STP'),\n ('Development Bank of the Central African States', 1975, 'CAT3', 'COG'),\n ('Air Seychelles', 1977, 'CAT2', 'SYC'),\n ('Central Bank of Lesotho', 1978, 'CAT3', 'LSO'),\n ('Central Bank of the Comoros', 1981, 'CAT3', 'COM'),\n ('European Trust Company', 1991, 'CAT3', 'VUT'),\n ('Ivory Bank', 1994, 'CAT3', 'SSD'),\n ('Guinea Ecuatorial Airlines', 1996, 'CAT2', 'GNQ'),\n ('Meridian Corporation', 1999, 'CAT13', 'XK ')]",
            "text/html": "<table>\n    <tr>\n        <th>business</th>\n        <th>year_founded</th>\n        <th>category_code</th>\n        <th>country_code</th>\n    </tr>\n    <tr>\n        <td>Marinelli Bell Foundry</td>\n        <td>1040</td>\n        <td>CAT12</td>\n        <td>ITA</td>\n    </tr>\n    <tr>\n        <td>Affligem Brewery</td>\n        <td>1074</td>\n        <td>CAT9</td>\n        <td>BEL</td>\n    </tr>\n    <tr>\n        <td>Munke Mølle</td>\n        <td>1135</td>\n        <td>CAT12</td>\n        <td>DNK</td>\n    </tr>\n    <tr>\n        <td>Ma Yu Ching&#x27;s Bucket Chicken House</td>\n        <td>1153</td>\n        <td>CAT4</td>\n        <td>CHN</td>\n    </tr>\n    <tr>\n        <td>Casa de Ganaderos</td>\n        <td>1218</td>\n        <td>CAT1</td>\n        <td>ESP</td>\n    </tr>\n    <tr>\n        <td>Gasthof Sternen</td>\n        <td>1230</td>\n        <td>CAT19</td>\n        <td>CHE</td>\n    </tr>\n    <tr>\n        <td>Bochnia Salt Mine</td>\n        <td>1248</td>\n        <td>CAT15</td>\n        <td>POL</td>\n    </tr>\n    <tr>\n        <td>Drohobych salt plant</td>\n        <td>1250</td>\n        <td>CAT12</td>\n        <td>UKR</td>\n    </tr>\n    <tr>\n        <td>Kremnica Mint</td>\n        <td>1328</td>\n        <td>CAT12</td>\n        <td>SVK</td>\n    </tr>\n    <tr>\n        <td>The Brand Brewery</td>\n        <td>1340</td>\n        <td>CAT9</td>\n        <td>NLD</td>\n    </tr>\n    <tr>\n        <td>Skyllbergs bruk</td>\n        <td>1346</td>\n        <td>CAT12</td>\n        <td>SWE</td>\n    </tr>\n    <tr>\n        <td>Pivovar Broumov</td>\n        <td>1348</td>\n        <td>CAT9</td>\n        <td>CZE</td>\n    </tr>\n    <tr>\n        <td>Raeapteek</td>\n        <td>1422</td>\n        <td>CAT14</td>\n        <td>EST</td>\n    </tr>\n    <tr>\n        <td>Gostilna Gastuž</td>\n        <td>1467</td>\n        <td>CAT19</td>\n        <td>SVN</td>\n    </tr>\n    <tr>\n        <td>Mousel</td>\n        <td>1511</td>\n        <td>CAT9</td>\n        <td>LUX</td>\n    </tr>\n    <tr>\n        <td>CTT-Correios de Portugal SA</td>\n        <td>1520</td>\n        <td>CAT16</td>\n        <td>PRT</td>\n    </tr>\n    <tr>\n        <td>La Casa de Moneda de México</td>\n        <td>1534</td>\n        <td>CAT12</td>\n        <td>MEX</td>\n    </tr>\n    <tr>\n        <td>Casa Nacional de Moneda</td>\n        <td>1565</td>\n        <td>CAT3</td>\n        <td>PER</td>\n    </tr>\n    <tr>\n        <td>Çemberlitaş Hamamı</td>\n        <td>1584</td>\n        <td>CAT19</td>\n        <td>TUR</td>\n    </tr>\n    <tr>\n        <td>Cēsu Alus</td>\n        <td>1590</td>\n        <td>CAT9</td>\n        <td>LVA</td>\n    </tr>\n    <tr>\n        <td>Piraeus Bank</td>\n        <td>1606</td>\n        <td>CAT3</td>\n        <td>GRC</td>\n    </tr>\n    <tr>\n        <td>Casa de Moneda de Colombia</td>\n        <td>1621</td>\n        <td>CAT12</td>\n        <td>COL</td>\n    </tr>\n    <tr>\n        <td>Shirley Plantation</td>\n        <td>1638</td>\n        <td>CAT1</td>\n        <td>USA</td>\n    </tr>\n    <tr>\n        <td>Posten Norge</td>\n        <td>1647</td>\n        <td>CAT16</td>\n        <td>NOR</td>\n    </tr>\n    <tr>\n        <td>Fiskars</td>\n        <td>1649</td>\n        <td>CAT7</td>\n        <td>FIN</td>\n    </tr>\n    <tr>\n        <td>Hacienda Chuao</td>\n        <td>1660</td>\n        <td>CAT11</td>\n        <td>VEN</td>\n    </tr>\n    <tr>\n        <td>Gubernija</td>\n        <td>1665</td>\n        <td>CAT9</td>\n        <td>LTU</td>\n    </tr>\n    <tr>\n        <td>Hudson&#x27;s Bay Company</td>\n        <td>1670</td>\n        <td>CAT17</td>\n        <td>CAN</td>\n    </tr>\n    <tr>\n        <td>Casa da Moeda do Brasil</td>\n        <td>1694</td>\n        <td>CAT12</td>\n        <td>BRA</td>\n    </tr>\n    <tr>\n        <td>Mount Gay Rum</td>\n        <td>1703</td>\n        <td>CAT9</td>\n        <td>BRB</td>\n    </tr>\n    <tr>\n        <td>Petrodvorets Watch Factory</td>\n        <td>1721</td>\n        <td>CAT7</td>\n        <td>RUS</td>\n    </tr>\n    <tr>\n        <td>Kraljevica Shipyard</td>\n        <td>1729</td>\n        <td>CAT12</td>\n        <td>HRV</td>\n    </tr>\n    <tr>\n        <td>Wadia Group</td>\n        <td>1736</td>\n        <td>CAT12</td>\n        <td>IND</td>\n    </tr>\n    <tr>\n        <td>Apatin Brewery</td>\n        <td>1756</td>\n        <td>CAT9</td>\n        <td>SRB</td>\n    </tr>\n    <tr>\n        <td>Rose Hall</td>\n        <td>1770</td>\n        <td>CAT19</td>\n        <td>JAM</td>\n    </tr>\n    <tr>\n        <td>Mauritius Post</td>\n        <td>1772</td>\n        <td>CAT16</td>\n        <td>MUS</td>\n    </tr>\n    <tr>\n        <td>Íslandspóstur</td>\n        <td>1776</td>\n        <td>CAT16</td>\n        <td>ISL</td>\n    </tr>\n    <tr>\n        <td>Zwack</td>\n        <td>1790</td>\n        <td>CAT9</td>\n        <td>HUN</td>\n    </tr>\n    <tr>\n        <td>Pos Malaysia</td>\n        <td>1800</td>\n        <td>CAT16</td>\n        <td>MYS</td>\n    </tr>\n    <tr>\n        <td>Pindad</td>\n        <td>1808</td>\n        <td>CAT8</td>\n        <td>IDN</td>\n    </tr>\n    <tr>\n        <td>Australia Post</td>\n        <td>1809</td>\n        <td>CAT16</td>\n        <td>AUS</td>\n    </tr>\n    <tr>\n        <td>Famae</td>\n        <td>1811</td>\n        <td>CAT8</td>\n        <td>CHL</td>\n    </tr>\n    <tr>\n        <td>NamPost</td>\n        <td>1814</td>\n        <td>CAT16</td>\n        <td>NAM</td>\n    </tr>\n    <tr>\n        <td>Singapore Post</td>\n        <td>1819</td>\n        <td>CAT16</td>\n        <td>SGP</td>\n    </tr>\n    <tr>\n        <td>Premier FMCG</td>\n        <td>1820</td>\n        <td>CAT12</td>\n        <td>ZAF</td>\n    </tr>\n    <tr>\n        <td>M. M. Ispahani Limited</td>\n        <td>1820</td>\n        <td>CAT11</td>\n        <td>BGD</td>\n    </tr>\n    <tr>\n        <td>Bank of the Province of Buenos Aires</td>\n        <td>1822</td>\n        <td>CAT3</td>\n        <td>ARG</td>\n    </tr>\n    <tr>\n        <td>House of Angostura</td>\n        <td>1830</td>\n        <td>CAT9</td>\n        <td>TTO</td>\n    </tr>\n    <tr>\n        <td>Bank Audi</td>\n        <td>1830</td>\n        <td>CAT3</td>\n        <td>LBN</td>\n    </tr>\n    <tr>\n        <td>George Steuart Group</td>\n        <td>1835</td>\n        <td>CAT11</td>\n        <td>LKA</td>\n    </tr>\n    <tr>\n        <td>Banks DIH</td>\n        <td>1840</td>\n        <td>CAT11</td>\n        <td>GUY</td>\n    </tr>\n    <tr>\n        <td>Pošta Crne Gore</td>\n        <td>1841</td>\n        <td>CAT16</td>\n        <td>MNE</td>\n    </tr>\n    <tr>\n        <td>House of Habib</td>\n        <td>1841</td>\n        <td>CAT5</td>\n        <td>PAK</td>\n    </tr>\n    <tr>\n        <td>House of Alireza</td>\n        <td>1845</td>\n        <td>CAT6</td>\n        <td>SAU</td>\n    </tr>\n    <tr>\n        <td>La Poste Tunisienne</td>\n        <td>1847</td>\n        <td>CAT16</td>\n        <td>TUN</td>\n    </tr>\n    <tr>\n        <td>Correios de Cabo Verde</td>\n        <td>1849</td>\n        <td>CAT16</td>\n        <td>CPV</td>\n    </tr>\n    <tr>\n        <td>Destileria Limtuaco</td>\n        <td>1853</td>\n        <td>CAT9</td>\n        <td>PHL</td>\n    </tr>\n    <tr>\n        <td>Egyptian National Railways</td>\n        <td>1854</td>\n        <td>CAT2</td>\n        <td>EGY</td>\n    </tr>\n    <tr>\n        <td>Azerbaijan Caspian Shipping Company</td>\n        <td>1858</td>\n        <td>CAT2</td>\n        <td>AZE</td>\n    </tr>\n    <tr>\n        <td>National Bank of Liechtenstein</td>\n        <td>1861</td>\n        <td>CAT3</td>\n        <td>LIE</td>\n    </tr>\n    <tr>\n        <td>Bank of New Zealand</td>\n        <td>1861</td>\n        <td>CAT3</td>\n        <td>NZL</td>\n    </tr>\n    <tr>\n        <td>Rhum Barbancourt</td>\n        <td>1862</td>\n        <td>CAT9</td>\n        <td>HTI</td>\n    </tr>\n    <tr>\n        <td>Olivaria Brewery</td>\n        <td>1864</td>\n        <td>CAT9</td>\n        <td>BLR</td>\n    </tr>\n    <tr>\n        <td>Sarajevska Pivara</td>\n        <td>1864</td>\n        <td>CAT9</td>\n        <td>BIH</td>\n    </tr>\n    <tr>\n        <td>National Railroad of Honduras</td>\n        <td>1870</td>\n        <td>CAT2</td>\n        <td>HND</td>\n    </tr>\n    <tr>\n        <td>Banco Nacional de Bolivia</td>\n        <td>1871</td>\n        <td>CAT3</td>\n        <td>BOL</td>\n    </tr>\n    <tr>\n        <td>Tutunski kombinat Prilep</td>\n        <td>1873</td>\n        <td>CAT7</td>\n        <td>MKD</td>\n    </tr>\n    <tr>\n        <td>Yerevan Ararat Brandy-Wine-Vodka Factory</td>\n        <td>1877</td>\n        <td>CAT9</td>\n        <td>ARM</td>\n    </tr>\n    <tr>\n        <td>Cafe Brasilero</td>\n        <td>1877</td>\n        <td>CAT4</td>\n        <td>URY</td>\n    </tr>\n    <tr>\n        <td>Arsenal AD</td>\n        <td>1878</td>\n        <td>CAT8</td>\n        <td>BGR</td>\n    </tr>\n    <tr>\n        <td>B.Grimm Group</td>\n        <td>1878</td>\n        <td>CAT5</td>\n        <td>THA</td>\n    </tr>\n    <tr>\n        <td>Ursus Breweries</td>\n        <td>1878</td>\n        <td>CAT9</td>\n        <td>ROU</td>\n    </tr>\n    <tr>\n        <td>Hamoud Boualem</td>\n        <td>1878</td>\n        <td>CAT11</td>\n        <td>DZA</td>\n    </tr>\n    <tr>\n        <td>Vietnam Railways</td>\n        <td>1881</td>\n        <td>CAT2</td>\n        <td>VNM</td>\n    </tr>\n    <tr>\n        <td>HSBC Bank Malta</td>\n        <td>1882</td>\n        <td>CAT3</td>\n        <td>MLT</td>\n    </tr>\n    <tr>\n        <td>La Poste du Togo</td>\n        <td>1883</td>\n        <td>CAT16</td>\n        <td>TGO</td>\n    </tr>\n    <tr>\n        <td>BMMI</td>\n        <td>1883</td>\n        <td>CAT17</td>\n        <td>BHR</td>\n    </tr>\n    <tr>\n        <td>KT Corporation</td>\n        <td>1885</td>\n        <td>CAT18</td>\n        <td>KOR</td>\n    </tr>\n    <tr>\n        <td>Bakdash</td>\n        <td>1885</td>\n        <td>CAT4</td>\n        <td>SYR</td>\n    </tr>\n    <tr>\n        <td>Société nationale des Chemins de fer du Congo</td>\n        <td>1889</td>\n        <td>CAT2</td>\n        <td>COD</td>\n    </tr>\n    <tr>\n        <td>Flor de Caña</td>\n        <td>1890</td>\n        <td>CAT9</td>\n        <td>NIC</td>\n    </tr>\n    <tr>\n        <td>M.H. Alshaya Co.</td>\n        <td>1890</td>\n        <td>CAT17</td>\n        <td>KWT</td>\n    </tr>\n    <tr>\n        <td>HSBC El Salvador</td>\n        <td>1891</td>\n        <td>CAT3</td>\n        <td>SLV</td>\n    </tr>\n    <tr>\n        <td>Standard Chartered Zimbabwe</td>\n        <td>1892</td>\n        <td>CAT3</td>\n        <td>ZWE</td>\n    </tr>\n    <tr>\n        <td>Beira Railroad Corporation</td>\n        <td>1892</td>\n        <td>CAT2</td>\n        <td>MOZ</td>\n    </tr>\n    <tr>\n        <td>First Bank of Nigeria</td>\n        <td>1894</td>\n        <td>CAT3</td>\n        <td>NGA</td>\n    </tr>\n    <tr>\n        <td>ZamPost</td>\n        <td>1896</td>\n        <td>CAT16</td>\n        <td>ZMB</td>\n    </tr>\n    <tr>\n        <td>KCB Group Limited</td>\n        <td>1896</td>\n        <td>CAT3</td>\n        <td>KEN</td>\n    </tr>\n    <tr>\n        <td>Bank of Taiwan</td>\n        <td>1897</td>\n        <td>CAT3</td>\n        <td>TWN</td>\n    </tr>\n    <tr>\n        <td>Bank of Cyprus</td>\n        <td>1899</td>\n        <td>CAT3</td>\n        <td>CYP</td>\n    </tr>\n    <tr>\n        <td>Ethio-Djibouti Railways</td>\n        <td>1901</td>\n        <td>CAT2</td>\n        <td>DJI</td>\n    </tr>\n    <tr>\n        <td>Belize Bank</td>\n        <td>1902</td>\n        <td>CAT3</td>\n        <td>BLZ</td>\n    </tr>\n    <tr>\n        <td>Bank of Georgia</td>\n        <td>1903</td>\n        <td>CAT3</td>\n        <td>GEO</td>\n    </tr>\n    <tr>\n        <td>National Bank of Panama</td>\n        <td>1904</td>\n        <td>CAT3</td>\n        <td>PAN</td>\n    </tr>\n    <tr>\n        <td>Attijariwafa Bank</td>\n        <td>1904</td>\n        <td>CAT3</td>\n        <td>MAR</td>\n    </tr>\n    <tr>\n        <td>National Bank of Ethiopia</td>\n        <td>1906</td>\n        <td>CAT3</td>\n        <td>ETH</td>\n    </tr>\n    <tr>\n        <td>Stanbic Bank Uganda Limited</td>\n        <td>1906</td>\n        <td>CAT3</td>\n        <td>UGA</td>\n    </tr>\n    <tr>\n        <td>Umma Bank</td>\n        <td>1907</td>\n        <td>CAT3</td>\n        <td>LBY</td>\n    </tr>\n    <tr>\n        <td>Florida Ice and Farm Company</td>\n        <td>1908</td>\n        <td>CAT9</td>\n        <td>CRI</td>\n    </tr>\n    <tr>\n        <td>The Chronicle (Dominica)</td>\n        <td>1909</td>\n        <td>CAT13</td>\n        <td>DMA</td>\n    </tr>\n    <tr>\n        <td>ALBtelecom</td>\n        <td>1912</td>\n        <td>CAT18</td>\n        <td>ALB</td>\n    </tr>\n    <tr>\n        <td>Bogatyr Access Komir</td>\n        <td>1913</td>\n        <td>CAT15</td>\n        <td>KAZ</td>\n    </tr>\n    <tr>\n        <td>Bank of Khartoum</td>\n        <td>1913</td>\n        <td>CAT3</td>\n        <td>SDN</td>\n    </tr>\n    <tr>\n        <td>Café Abu Salem</td>\n        <td>1914</td>\n        <td>CAT4</td>\n        <td>ISR</td>\n    </tr>\n    <tr>\n        <td>Rokel Commercial Bank</td>\n        <td>1917</td>\n        <td>CAT3</td>\n        <td>SLE</td>\n    </tr>\n    <tr>\n        <td>Corporación Multi Inversiones</td>\n        <td>1920</td>\n        <td>CAT11</td>\n        <td>GTM</td>\n    </tr>\n    <tr>\n        <td>National Port Authority</td>\n        <td>1921</td>\n        <td>CAT2</td>\n        <td>LBR</td>\n    </tr>\n    <tr>\n        <td>National Post Office</td>\n        <td>1922</td>\n        <td>CAT16</td>\n        <td>RWA</td>\n    </tr>\n    <tr>\n        <td>Dakar–Niger Railway</td>\n        <td>1924</td>\n        <td>CAT2</td>\n        <td>SEN</td>\n    </tr>\n    <tr>\n        <td>North Oil Company</td>\n        <td>1928</td>\n        <td>CAT10</td>\n        <td>IRQ</td>\n    </tr>\n    <tr>\n        <td>Cubana de Aviación</td>\n        <td>1929</td>\n        <td>CAT2</td>\n        <td>CUB</td>\n    </tr>\n    <tr>\n        <td>Spinzar Cotton Company</td>\n        <td>1930</td>\n        <td>CAT1</td>\n        <td>AFG</td>\n    </tr>\n    <tr>\n        <td>Arab Bank</td>\n        <td>1930</td>\n        <td>CAT3</td>\n        <td>JOR</td>\n    </tr>\n    <tr>\n        <td>Andbank</td>\n        <td>1930</td>\n        <td>CAT3</td>\n        <td>AND</td>\n    </tr>\n    <tr>\n        <td>Mongolian National Broadcaster</td>\n        <td>1931</td>\n        <td>CAT13</td>\n        <td>MNG</td>\n    </tr>\n    <tr>\n        <td>Tashkent Aviation Production Association</td>\n        <td>1932</td>\n        <td>CAT12</td>\n        <td>UZB</td>\n    </tr>\n    <tr>\n        <td>Tanzania Breweries Limited</td>\n        <td>1933</td>\n        <td>CAT9</td>\n        <td>TZA</td>\n    </tr>\n    <tr>\n        <td>Nepal Bank Limited</td>\n        <td>1937</td>\n        <td>CAT3</td>\n        <td>NPL</td>\n    </tr>\n    <tr>\n        <td>Petroleum Development Oman</td>\n        <td>1937</td>\n        <td>CAT10</td>\n        <td>OMN</td>\n    </tr>\n    <tr>\n        <td>1st National Bank of St Lucia</td>\n        <td>1938</td>\n        <td>CAT3</td>\n        <td>LCA</td>\n    </tr>\n    <tr>\n        <td>Liwa Chemicals</td>\n        <td>1939</td>\n        <td>CAT12</td>\n        <td>ARE</td>\n    </tr>\n    <tr>\n        <td>Asmara Brewery</td>\n        <td>1939</td>\n        <td>CAT9</td>\n        <td>ERI</td>\n    </tr>\n    <tr>\n        <td>Radio Mogadishu</td>\n        <td>1943</td>\n        <td>CAT13</td>\n        <td>SOM</td>\n    </tr>\n    <tr>\n        <td>Kim Chong-t&#x27;ae Electric Locomotive Works</td>\n        <td>1945</td>\n        <td>CAT2</td>\n        <td>PRK</td>\n    </tr>\n    <tr>\n        <td>La Poste</td>\n        <td>1945</td>\n        <td>CAT16</td>\n        <td>CIV</td>\n    </tr>\n    <tr>\n        <td>Banque Internationale pour la Centrafrique</td>\n        <td>1946</td>\n        <td>CAT3</td>\n        <td>CAF</td>\n    </tr>\n    <tr>\n        <td>Hua Ho Department Store</td>\n        <td>1947</td>\n        <td>CAT17</td>\n        <td>BRN</td>\n    </tr>\n    <tr>\n        <td>Cameroon Development Corporation</td>\n        <td>1947</td>\n        <td>CAT1</td>\n        <td>CMR</td>\n    </tr>\n    <tr>\n        <td>Myanmar National Airlines</td>\n        <td>1948</td>\n        <td>CAT2</td>\n        <td>MMR</td>\n    </tr>\n    <tr>\n        <td>Salam International Investment Limited</td>\n        <td>1952</td>\n        <td>CAT5</td>\n        <td>QAT</td>\n    </tr>\n    <tr>\n        <td>National Bank of Cambodia</td>\n        <td>1954</td>\n        <td>CAT3</td>\n        <td>KHM</td>\n    </tr>\n    <tr>\n        <td>Brarudi</td>\n        <td>1955</td>\n        <td>CAT9</td>\n        <td>BDI</td>\n    </tr>\n    <tr>\n        <td>Office de Radiodiffusion-Télévision du Mali</td>\n        <td>1957</td>\n        <td>CAT13</td>\n        <td>MLI</td>\n    </tr>\n    <tr>\n        <td>Electricite du Laos</td>\n        <td>1959</td>\n        <td>CAT10</td>\n        <td>LAO</td>\n    </tr>\n    <tr>\n        <td>Tashi Group</td>\n        <td>1959</td>\n        <td>CAT2</td>\n        <td>BTN</td>\n    </tr>\n    <tr>\n        <td>Office of Radio and Television of Niger</td>\n        <td>1960</td>\n        <td>CAT13</td>\n        <td>NER</td>\n    </tr>\n    <tr>\n        <td>Halco Mining</td>\n        <td>1962</td>\n        <td>CAT15</td>\n        <td>GIN</td>\n    </tr>\n    <tr>\n        <td>Air Madagascar</td>\n        <td>1962</td>\n        <td>CAT2</td>\n        <td>MDG</td>\n    </tr>\n    <tr>\n        <td>Yemenia Airways</td>\n        <td>1962</td>\n        <td>CAT2</td>\n        <td>YEM</td>\n    </tr>\n    <tr>\n        <td>Swazi Rail</td>\n        <td>1963</td>\n        <td>CAT2</td>\n        <td>SWZ</td>\n    </tr>\n    <tr>\n        <td>Malawi Broadcasting Corporation</td>\n        <td>1964</td>\n        <td>CAT13</td>\n        <td>MWI</td>\n    </tr>\n    <tr>\n        <td>Botswana Meat Commission</td>\n        <td>1965</td>\n        <td>CAT1</td>\n        <td>BWA</td>\n    </tr>\n    <tr>\n        <td>Air Burkina</td>\n        <td>1967</td>\n        <td>CAT2</td>\n        <td>BFA</td>\n    </tr>\n    <tr>\n        <td>Communauté Électrique du Bénin</td>\n        <td>1968</td>\n        <td>CAT10</td>\n        <td>BEN</td>\n    </tr>\n    <tr>\n        <td>BGFIBank Group</td>\n        <td>1971</td>\n        <td>CAT3</td>\n        <td>GAB</td>\n    </tr>\n    <tr>\n        <td>Cotontchad</td>\n        <td>1971</td>\n        <td>CAT1</td>\n        <td>TCD</td>\n    </tr>\n    <tr>\n        <td>Correios da Guiné-Bissau</td>\n        <td>1973</td>\n        <td>CAT16</td>\n        <td>GNB</td>\n    </tr>\n    <tr>\n        <td>Central Bank of Mauritania</td>\n        <td>1973</td>\n        <td>CAT3</td>\n        <td>MRT</td>\n    </tr>\n    <tr>\n        <td>Central Bank of São Tomé and Príncipe</td>\n        <td>1975</td>\n        <td>CAT3</td>\n        <td>STP</td>\n    </tr>\n    <tr>\n        <td>Development Bank of the Central African States</td>\n        <td>1975</td>\n        <td>CAT3</td>\n        <td>COG</td>\n    </tr>\n    <tr>\n        <td>Air Seychelles</td>\n        <td>1977</td>\n        <td>CAT2</td>\n        <td>SYC</td>\n    </tr>\n    <tr>\n        <td>Central Bank of Lesotho</td>\n        <td>1978</td>\n        <td>CAT3</td>\n        <td>LSO</td>\n    </tr>\n    <tr>\n        <td>Central Bank of the Comoros</td>\n        <td>1981</td>\n        <td>CAT3</td>\n        <td>COM</td>\n    </tr>\n    <tr>\n        <td>European Trust Company</td>\n        <td>1991</td>\n        <td>CAT3</td>\n        <td>VUT</td>\n    </tr>\n    <tr>\n        <td>Ivory Bank</td>\n        <td>1994</td>\n        <td>CAT3</td>\n        <td>SSD</td>\n    </tr>\n    <tr>\n        <td>Guinea Ecuatorial Airlines</td>\n        <td>1996</td>\n        <td>CAT2</td>\n        <td>GNQ</td>\n    </tr>\n    <tr>\n        <td>Meridian Corporation</td>\n        <td>1999</td>\n        <td>CAT13</td>\n        <td>XK </td>\n    </tr>\n</table>"
          },
          "metadata": {}
        }
      ]
    },
    {
      "metadata": {
        "dc": {
          "key": "19"
        },
        "trusted": true,
        "collapsed": true,
        "id": "dfPe0I_2zK8_"
      },
      "cell_type": "code",
      "source": [
        ""
      ],
      "execution_count": null,
      "outputs": []
    },
    {
      "metadata": {
        "dc": {
          "key": "26"
        },
        "deletable": false,
        "editable": false,
        "run_control": {
          "frozen": true
        },
        "tags": [
          "context"
        ],
        "id": "fbkGGO36zK9B"
      },
      "cell_type": "markdown",
      "source": [
        "## 4. Exploring the categories\n",
        "<p>Now we know that the oldest, continuously operating company in the world is called Kongō Gumi. But was does that company do? The category codes in the <code>businesses</code> table aren't very helpful: the descriptions of the categories are stored in the <code>categories</code> table.</p>\n",
        "<p>This is a common problem: for data storage, it's better to keep different types of data in different tables, but for analysis, you want all the data in one place. To solve this, you'll have to join the two tables together.</p>"
      ]
    },
    {
      "metadata": {
        "dc": {
          "key": "26"
        },
        "tags": [
          "sample_code"
        ],
        "trusted": true,
        "id": "qdUvHGfKzK9D",
        "outputId": "cbdd27fd-a1ca-4c53-f655-bf03ecf15286"
      },
      "cell_type": "code",
      "source": [
        "%%sql\n",
        "\n",
        "-- Select business name, founding year, and country code from businesses; and category from categories\n",
        "-- where the founding year was before 1000, arranged from oldest to newest\n",
        "select b.business, b.year_founded, b.country_code, c.category\n",
        "from businesses b\n",
        "join categories c\n",
        "on b.category_code = c.category_code\n",
        "where year_founded < 1000\n",
        "order by year_founded asc"
      ],
      "execution_count": null,
      "outputs": [
        {
          "output_type": "stream",
          "text": " * postgresql:///oldestbusinesses\n6 rows affected.\n",
          "name": "stdout"
        },
        {
          "output_type": "execute_result",
          "execution_count": 50,
          "data": {
            "text/plain": "[('Kongō Gumi', 578, 'JPN', 'Construction'),\n ('St. Peter Stifts Kulinarium', 803, 'AUT', 'Cafés, Restaurants & Bars'),\n ('Staffelter\\xa0Hof Winery', 862, 'DEU', 'Distillers, Vintners, & Breweries'),\n ('Monnaie de Paris\\xa0', 864, 'FRA', 'Manufacturing & Production'),\n ('The Royal Mint', 886, 'GBR', 'Manufacturing & Production'),\n (\"Sean's Bar\", 900, 'IRL', 'Cafés, Restaurants & Bars')]",
            "text/html": "<table>\n    <tr>\n        <th>business</th>\n        <th>year_founded</th>\n        <th>country_code</th>\n        <th>category</th>\n    </tr>\n    <tr>\n        <td>Kongō Gumi</td>\n        <td>578</td>\n        <td>JPN</td>\n        <td>Construction</td>\n    </tr>\n    <tr>\n        <td>St. Peter Stifts Kulinarium</td>\n        <td>803</td>\n        <td>AUT</td>\n        <td>Cafés, Restaurants &amp; Bars</td>\n    </tr>\n    <tr>\n        <td>Staffelter Hof Winery</td>\n        <td>862</td>\n        <td>DEU</td>\n        <td>Distillers, Vintners, &amp; Breweries</td>\n    </tr>\n    <tr>\n        <td>Monnaie de Paris </td>\n        <td>864</td>\n        <td>FRA</td>\n        <td>Manufacturing &amp; Production</td>\n    </tr>\n    <tr>\n        <td>The Royal Mint</td>\n        <td>886</td>\n        <td>GBR</td>\n        <td>Manufacturing &amp; Production</td>\n    </tr>\n    <tr>\n        <td>Sean&#x27;s Bar</td>\n        <td>900</td>\n        <td>IRL</td>\n        <td>Cafés, Restaurants &amp; Bars</td>\n    </tr>\n</table>"
          },
          "metadata": {}
        }
      ]
    },
    {
      "metadata": {
        "dc": {
          "key": "26"
        },
        "trusted": true,
        "collapsed": true,
        "id": "cpgeMJtGzK9F"
      },
      "cell_type": "code",
      "source": [
        ""
      ],
      "execution_count": null,
      "outputs": []
    },
    {
      "metadata": {
        "dc": {
          "key": "33"
        },
        "deletable": false,
        "editable": false,
        "run_control": {
          "frozen": true
        },
        "tags": [
          "context"
        ],
        "id": "fG1RBdx_zK9J"
      },
      "cell_type": "markdown",
      "source": [
        "## 5. Counting the categories\n",
        "<p>With that extra detail about the oldest businesses, we can see that Kongō Gumi is a construction company. In that list of six businesses, we also see a café, a winery, and a bar. The two companies recorded as \"Manufacturing and Production\" are both mints. That is, they produce currency.</p>\n",
        "<p>I'm curious as to what other industries constitute the oldest companies around the world, and which industries are most common.</p>"
      ]
    },
    {
      "metadata": {
        "dc": {
          "key": "33"
        },
        "tags": [
          "sample_code"
        ],
        "trusted": true,
        "id": "-tkKT8BZzK9L",
        "outputId": "1d1e5b01-d7d5-4634-b728-858e2e7b5716"
      },
      "cell_type": "code",
      "source": [
        "%%sql\n",
        "\n",
        "-- Select the category and count of category (as \"n\")\n",
        "-- arranged by descending count, limited to 10 most common categories\n",
        "select category, count(category) as n\n",
        "from categories\n",
        "join businesses \n",
        "on categories.category_code = businesses.category_code\n",
        "group by category\n",
        "order by n desc\n",
        "limit 10"
      ],
      "execution_count": null,
      "outputs": [
        {
          "output_type": "stream",
          "text": " * postgresql:///oldestbusinesses\n10 rows affected.\n",
          "name": "stdout"
        },
        {
          "output_type": "execute_result",
          "execution_count": 52,
          "data": {
            "text/plain": "[('Banking & Finance', 37),\n ('Distillers, Vintners, & Breweries', 22),\n ('Aviation & Transport', 19),\n ('Postal Service', 16),\n ('Manufacturing & Production', 15),\n ('Media', 7),\n ('Agriculture', 6),\n ('Cafés, Restaurants & Bars', 6),\n ('Food & Beverages', 6),\n ('Tourism & Hotels', 4)]",
            "text/html": "<table>\n    <tr>\n        <th>category</th>\n        <th>n</th>\n    </tr>\n    <tr>\n        <td>Banking &amp; Finance</td>\n        <td>37</td>\n    </tr>\n    <tr>\n        <td>Distillers, Vintners, &amp; Breweries</td>\n        <td>22</td>\n    </tr>\n    <tr>\n        <td>Aviation &amp; Transport</td>\n        <td>19</td>\n    </tr>\n    <tr>\n        <td>Postal Service</td>\n        <td>16</td>\n    </tr>\n    <tr>\n        <td>Manufacturing &amp; Production</td>\n        <td>15</td>\n    </tr>\n    <tr>\n        <td>Media</td>\n        <td>7</td>\n    </tr>\n    <tr>\n        <td>Agriculture</td>\n        <td>6</td>\n    </tr>\n    <tr>\n        <td>Cafés, Restaurants &amp; Bars</td>\n        <td>6</td>\n    </tr>\n    <tr>\n        <td>Food &amp; Beverages</td>\n        <td>6</td>\n    </tr>\n    <tr>\n        <td>Tourism &amp; Hotels</td>\n        <td>4</td>\n    </tr>\n</table>"
          },
          "metadata": {}
        }
      ]
    },
    {
      "metadata": {
        "dc": {
          "key": "33"
        },
        "trusted": true,
        "collapsed": true,
        "id": "ueGVoSB1zK9O"
      },
      "cell_type": "code",
      "source": [
        ""
      ],
      "execution_count": null,
      "outputs": []
    },
    {
      "metadata": {
        "dc": {
          "key": "33"
        },
        "trusted": true,
        "collapsed": true,
        "id": "MuCW4MwEzK9Q"
      },
      "cell_type": "code",
      "source": [
        ""
      ],
      "execution_count": null,
      "outputs": []
    },
    {
      "metadata": {
        "dc": {
          "key": "40"
        },
        "deletable": false,
        "editable": false,
        "run_control": {
          "frozen": true
        },
        "tags": [
          "context"
        ],
        "id": "UitHelJOzK9R"
      },
      "cell_type": "markdown",
      "source": [
        "## 6. Oldest business by continent\n",
        "<p>It looks like \"Banking &amp; Finance\" is the most popular category. Maybe that's where you should aim if you want to start a thousand-year business.</p>\n",
        "<p>One thing we haven't looked at yet is where in the world these really old businesses are. To answer these questions, we'll need to join the <code>businesses</code> table to the <code>countries</code> table. Let's start by asking how old the oldest business is on each continent.</p>"
      ]
    },
    {
      "metadata": {
        "dc": {
          "key": "40"
        },
        "tags": [
          "sample_code"
        ],
        "trusted": true,
        "id": "m-csj_zpzK9T",
        "outputId": "99d54d7d-d84d-41c2-f508-e218392c09c3"
      },
      "cell_type": "code",
      "source": [
        "%%sql\n",
        "\n",
        "-- Select the oldest founding year (as \"oldest\") from businesses, \n",
        "-- and continent from countries\n",
        "-- for each continent, ordered from oldest to newest \n",
        "select min(year_founded) oldest, continent\n",
        "from businesses b\n",
        "join countries co\n",
        "on b.country_code = co.country_code\n",
        "group by continent\n",
        "order by oldest "
      ],
      "execution_count": null,
      "outputs": [
        {
          "output_type": "stream",
          "text": " * postgresql:///oldestbusinesses\n6 rows affected.\n",
          "name": "stdout"
        },
        {
          "output_type": "execute_result",
          "execution_count": 54,
          "data": {
            "text/plain": "[(578, 'Asia'),\n (803, 'Europe'),\n (1534, 'North America'),\n (1565, 'South America'),\n (1772, 'Africa'),\n (1809, 'Oceania')]",
            "text/html": "<table>\n    <tr>\n        <th>oldest</th>\n        <th>continent</th>\n    </tr>\n    <tr>\n        <td>578</td>\n        <td>Asia</td>\n    </tr>\n    <tr>\n        <td>803</td>\n        <td>Europe</td>\n    </tr>\n    <tr>\n        <td>1534</td>\n        <td>North America</td>\n    </tr>\n    <tr>\n        <td>1565</td>\n        <td>South America</td>\n    </tr>\n    <tr>\n        <td>1772</td>\n        <td>Africa</td>\n    </tr>\n    <tr>\n        <td>1809</td>\n        <td>Oceania</td>\n    </tr>\n</table>"
          },
          "metadata": {}
        }
      ]
    },
    {
      "metadata": {
        "dc": {
          "key": "40"
        },
        "trusted": true,
        "collapsed": true,
        "id": "awzMAIm5zK9V"
      },
      "cell_type": "code",
      "source": [
        ""
      ],
      "execution_count": null,
      "outputs": []
    },
    {
      "metadata": {
        "dc": {
          "key": "47"
        },
        "deletable": false,
        "editable": false,
        "run_control": {
          "frozen": true
        },
        "tags": [
          "context"
        ],
        "id": "ObXMsf2ozK9W"
      },
      "cell_type": "markdown",
      "source": [
        "## 7. Joining everything for further analysis\n",
        "<p>Interesting. There's a jump in time from the older businesses in Asia and Europe to the 16th Century oldest businesses in North and South America, then to the 18th and 19th Century oldest businesses in Africa and Oceania. </p>\n",
        "<p>As mentioned earlier, when analyzing data it's often really helpful to have all the tables you want access to joined together into a single set of results that can be analyzed further. Here, that means we need to join all three tables.</p>"
      ]
    },
    {
      "metadata": {
        "dc": {
          "key": "47"
        },
        "tags": [
          "sample_code"
        ],
        "trusted": true,
        "id": "bKDvYT3FzK9Y",
        "outputId": "01cbadaa-3969-4490-974b-405f2a3850b1"
      },
      "cell_type": "code",
      "source": [
        "%%sql\n",
        "\n",
        "-- Select the business, founding year, category, country, and continent\n",
        "select b.business, b.year_founded, c.category, co.country, co.continent\n",
        "from businesses b\n",
        "join categories c\n",
        "on b.category_code = c.category_code\n",
        "join countries co\n",
        "on co.country_code = b.country_code"
      ],
      "execution_count": null,
      "outputs": [
        {
          "output_type": "stream",
          "text": " * postgresql:///oldestbusinesses\n163 rows affected.\n",
          "name": "stdout"
        },
        {
          "output_type": "execute_result",
          "execution_count": 56,
          "data": {
            "text/plain": "[('Spinzar Cotton Company', 1930, 'Agriculture', 'Afghanistan', 'Asia'),\n ('ALBtelecom', 1912, 'Telecommunications', 'Albania', 'Europe'),\n ('Andbank', 1930, 'Banking & Finance', 'Andorra', 'Europe'),\n ('Liwa Chemicals', 1939, 'Manufacturing & Production', 'United Arab Emirates', 'Asia'),\n ('Bank of the Province of Buenos Aires', 1822, 'Banking & Finance', 'Argentina', 'South America'),\n ('Yerevan Ararat Brandy-Wine-Vodka Factory', 1877, 'Distillers, Vintners, & Breweries', 'Armenia', 'Asia'),\n ('Australia Post', 1809, 'Postal Service', 'Australia', 'Oceania'),\n ('St. Peter Stifts Kulinarium', 803, 'Cafés, Restaurants & Bars', 'Austria', 'Europe'),\n ('Azerbaijan Caspian Shipping Company', 1858, 'Aviation & Transport', 'Azerbaijan', 'Asia'),\n ('Brarudi', 1955, 'Distillers, Vintners, & Breweries', 'Burundi', 'Africa'),\n ('Affligem Brewery', 1074, 'Distillers, Vintners, & Breweries', 'Belgium', 'Europe'),\n ('Communauté Électrique du Bénin', 1968, 'Energy', 'Benin', 'Africa'),\n ('Air Burkina', 1967, 'Aviation & Transport', 'Burkina Faso', 'Africa'),\n ('M. M. Ispahani Limited', 1820, 'Food & Beverages', 'Bangladesh', 'Asia'),\n ('Arsenal AD', 1878, 'Defense', 'Bulgaria', 'Europe'),\n ('BMMI', 1883, 'Retail', 'Bahrain', 'Asia'),\n ('Sarajevska Pivara', 1864, 'Distillers, Vintners, & Breweries', 'Bosnia and Herzegovina', 'Europe'),\n ('Olivaria Brewery', 1864, 'Distillers, Vintners, & Breweries', 'Belarus', 'Europe'),\n ('Belize Bank', 1902, 'Banking & Finance', 'Belize', 'North America'),\n ('Banco Nacional de Bolivia', 1871, 'Banking & Finance', 'Bolivia, Plurinational State of', 'South America'),\n ('Casa da Moeda do Brasil', 1694, 'Manufacturing & Production', 'Brazil', 'South America'),\n ('Mount Gay Rum', 1703, 'Distillers, Vintners, & Breweries', 'Barbados', 'North America'),\n ('Hua Ho Department Store', 1947, 'Retail', 'Brunei Darussalam', 'Asia'),\n ('Tashi Group', 1959, 'Aviation & Transport', 'Bhutan', 'Asia'),\n ('Botswana Meat Commission', 1965, 'Agriculture', 'Botswana', 'Africa'),\n ('Banque Internationale pour la Centrafrique', 1946, 'Banking & Finance', 'Central African Republic', 'Africa'),\n (\"Hudson's Bay Company\", 1670, 'Retail', 'Canada', 'North America'),\n ('Gasthof Sternen', 1230, 'Tourism & Hotels', 'Switzerland', 'Europe'),\n ('Famae', 1811, 'Defense', 'Chile', 'South America'),\n (\"Ma Yu Ching's Bucket Chicken House\", 1153, 'Cafés, Restaurants & Bars', 'China', 'Asia'),\n ('La Poste', 1945, 'Postal Service', \"Côte d'Ivoire\", 'Africa'),\n ('Cameroon Development Corporation', 1947, 'Agriculture', 'Cameroon', 'Africa'),\n ('Société nationale des Chemins de fer du Congo', 1889, 'Aviation & Transport', 'Congo, The Democratic Republic of the', 'Africa'),\n ('Development Bank of the Central African States', 1975, 'Banking & Finance', 'Congo', 'Africa'),\n ('Casa de Moneda de Colombia', 1621, 'Manufacturing & Production', 'Colombia', 'South America'),\n ('Central Bank of the Comoros', 1981, 'Banking & Finance', 'Comoros', 'Africa'),\n ('Correios de Cabo Verde', 1849, 'Postal Service', 'Cabo Verde', 'Africa'),\n ('Florida Ice and Farm Company', 1908, 'Distillers, Vintners, & Breweries', 'Costa Rica', 'North America'),\n ('Cubana de Aviación', 1929, 'Aviation & Transport', 'Cuba', 'North America'),\n ('Bank of Cyprus', 1899, 'Banking & Finance', 'Cyprus', 'Europe'),\n ('Pivovar Broumov', 1348, 'Distillers, Vintners, & Breweries', 'Czechia', 'Europe'),\n ('Staffelter\\xa0Hof Winery', 862, 'Distillers, Vintners, & Breweries', 'Germany', 'Europe'),\n ('Ethio-Djibouti Railways', 1901, 'Aviation & Transport', 'Djibouti', 'Africa'),\n ('The Chronicle (Dominica)', 1909, 'Media', 'Dominica', 'North America'),\n ('Munke Mølle', 1135, 'Manufacturing & Production', 'Denmark', 'Europe'),\n ('Hamoud Boualem', 1878, 'Food & Beverages', 'Algeria', 'Africa'),\n ('Egyptian National Railways', 1854, 'Aviation & Transport', 'Egypt', 'Africa'),\n ('Asmara Brewery', 1939, 'Distillers, Vintners, & Breweries', 'Eritrea', 'Africa'),\n ('Casa de Ganaderos', 1218, 'Agriculture', 'Spain', 'Europe'),\n ('Raeapteek', 1422, 'Medical', 'Estonia', 'Europe'),\n ('National Bank of Ethiopia', 1906, 'Banking & Finance', 'Ethiopia', 'Africa'),\n ('Fiskars', 1649, 'Consumer Goods', 'Finland', 'Europe'),\n ('Monnaie de Paris\\xa0', 864, 'Manufacturing & Production', 'France', 'Europe'),\n ('BGFIBank Group', 1971, 'Banking & Finance', 'Gabon', 'Africa'),\n ('The Royal Mint', 886, 'Manufacturing & Production', 'United Kingdom', 'Europe'),\n ('Bank of Georgia', 1903, 'Banking & Finance', 'Georgia', 'Asia'),\n ('Halco Mining', 1962, 'Mining', 'Guinea', 'Africa'),\n ('Correios da Guiné-Bissau', 1973, 'Postal Service', 'Guinea-Bissau', 'Africa'),\n ('Guinea Ecuatorial Airlines', 1996, 'Aviation & Transport', 'Equatorial Guinea', 'Africa'),\n ('Piraeus Bank', 1606, 'Banking & Finance', 'Greece', 'Europe'),\n ('Corporación Multi Inversiones', 1920, 'Food & Beverages', 'Guatemala', 'North America'),\n ('Banks DIH', 1840, 'Food & Beverages', 'Guyana', 'South America'),\n ('National Railroad of Honduras', 1870, 'Aviation & Transport', 'Honduras', 'North America'),\n ('Kraljevica Shipyard', 1729, 'Manufacturing & Production', 'Croatia', 'Europe'),\n ('Rhum Barbancourt', 1862, 'Distillers, Vintners, & Breweries', 'Haiti', 'North America'),\n ('Zwack', 1790, 'Distillers, Vintners, & Breweries', 'Hungary', 'Europe'),\n ('Pindad', 1808, 'Defense', 'Indonesia', 'Asia'),\n ('Wadia Group', 1736, 'Manufacturing & Production', 'India', 'Asia'),\n (\"Sean's Bar\", 900, 'Cafés, Restaurants & Bars', 'Ireland', 'Europe'),\n ('North Oil Company', 1928, 'Energy', 'Iraq', 'Asia'),\n ('Íslandspóstur', 1776, 'Postal Service', 'Iceland', 'Europe'),\n ('Café Abu Salem', 1914, 'Cafés, Restaurants & Bars', 'Israel', 'Asia'),\n ('Marinelli Bell Foundry', 1040, 'Manufacturing & Production', 'Italy', 'Europe'),\n ('Rose Hall', 1770, 'Tourism & Hotels', 'Jamaica', 'North America'),\n ('Arab Bank', 1930, 'Banking & Finance', 'Jordan', 'Asia'),\n ('Kongō Gumi', 578, 'Construction', 'Japan', 'Asia'),\n ('Bogatyr Access Komir', 1913, 'Mining', 'Kazakhstan', 'Asia'),\n ('KCB Group Limited', 1896, 'Banking & Finance', 'Kenya', 'Africa'),\n ('National Bank of Cambodia', 1954, 'Banking & Finance', 'Cambodia', 'Asia'),\n ('KT Corporation', 1885, 'Telecommunications', 'Korea, Republic of', 'Asia'),\n ('M.H. Alshaya Co.', 1890, 'Retail', 'Kuwait', 'Asia'),\n ('Electricite du Laos', 1959, 'Energy', \"Lao People's Democratic Republic\", 'Asia'),\n ('Bank Audi', 1830, 'Banking & Finance', 'Lebanon', 'Asia'),\n ('National Port Authority', 1921, 'Aviation & Transport', 'Liberia', 'Africa'),\n ('Umma Bank', 1907, 'Banking & Finance', 'Libya', 'Africa'),\n ('1st National Bank of St Lucia', 1938, 'Banking & Finance', 'Saint Lucia', 'North America'),\n ('National Bank of Liechtenstein', 1861, 'Banking & Finance', 'Liechtenstein', 'Europe'),\n ('George Steuart Group', 1835, 'Food & Beverages', 'Sri Lanka', 'Asia'),\n ('Central Bank of Lesotho', 1978, 'Banking & Finance', 'Lesotho', 'Africa'),\n ('Gubernija', 1665, 'Distillers, Vintners, & Breweries', 'Lithuania', 'Europe'),\n ('Mousel', 1511, 'Distillers, Vintners, & Breweries', 'Luxembourg', 'Europe'),\n ('Cēsu Alus', 1590, 'Distillers, Vintners, & Breweries', 'Latvia', 'Europe'),\n ('Attijariwafa Bank', 1904, 'Banking & Finance', 'Morocco', 'Africa'),\n ('Air Madagascar', 1962, 'Aviation & Transport', 'Madagascar', 'Africa'),\n ('La Casa de Moneda de México', 1534, 'Manufacturing & Production', 'Mexico', 'North America'),\n ('Tutunski kombinat Prilep', 1873, 'Consumer Goods', 'North Macedonia', 'Europe'),\n ('Office de Radiodiffusion-Télévision du Mali', 1957, 'Media', 'Mali', 'Africa'),\n ('HSBC Bank Malta', 1882, 'Banking & Finance', 'Malta', 'Europe'),\n ('Myanmar National Airlines', 1948, 'Aviation & Transport', 'Myanmar', 'Asia'),\n ('Pošta Crne Gore', 1841, 'Postal Service', 'Montenegro', 'Europe'),\n ('Mongolian National Broadcaster', 1931, 'Media', 'Mongolia', 'Asia'),\n ('Beira Railroad Corporation', 1892, 'Aviation & Transport', 'Mozambique', 'Africa'),\n ('Central Bank of Mauritania', 1973, 'Banking & Finance', 'Mauritania', 'Africa'),\n ('Mauritius Post', 1772, 'Postal Service', 'Mauritius', 'Africa'),\n ('Malawi Broadcasting Corporation', 1964, 'Media', 'Malawi', 'Africa'),\n ('Pos Malaysia', 1800, 'Postal Service', 'Malaysia', 'Asia'),\n ('NamPost', 1814, 'Postal Service', 'Namibia', 'Africa'),\n ('Office of Radio and Television of Niger', 1960, 'Media', 'Niger', 'Africa'),\n ('First Bank of Nigeria', 1894, 'Banking & Finance', 'Nigeria', 'Africa'),\n ('Flor de Caña', 1890, 'Distillers, Vintners, & Breweries', 'Nicaragua', 'North America'),\n ('The Brand Brewery', 1340, 'Distillers, Vintners, & Breweries', 'Netherlands', 'Europe'),\n ('Posten Norge', 1647, 'Postal Service', 'Norway', 'Europe'),\n ('Nepal Bank Limited', 1937, 'Banking & Finance', 'Nepal', 'Asia'),\n ('Bank of New Zealand', 1861, 'Banking & Finance', 'New Zealand', 'Oceania'),\n ('Petroleum Development Oman', 1937, 'Energy', 'Oman', 'Asia'),\n ('House of Habib', 1841, 'Conglomerate', 'Pakistan', 'Asia'),\n ('National Bank of Panama', 1904, 'Banking & Finance', 'Panama', 'North America'),\n ('Casa Nacional de Moneda', 1565, 'Banking & Finance', 'Peru', 'South America'),\n ('Destileria Limtuaco', 1853, 'Distillers, Vintners, & Breweries', 'Philippines', 'Asia'),\n ('Bochnia Salt Mine', 1248, 'Mining', 'Poland', 'Europe'),\n (\"Kim Chong-t'ae Electric Locomotive Works\", 1945, 'Aviation & Transport', \"Korea, Democratic People's Republic of\", 'Asia'),\n ('CTT-Correios de Portugal SA', 1520, 'Postal Service', 'Portugal', 'Europe'),\n ('Salam International Investment Limited', 1952, 'Conglomerate', 'Qatar', 'Asia'),\n ('Ursus Breweries', 1878, 'Distillers, Vintners, & Breweries', 'Romania', 'Europe'),\n ('Petrodvorets Watch Factory', 1721, 'Consumer Goods', 'Russian Federation', 'Europe'),\n ('National Post Office', 1922, 'Postal Service', 'Rwanda', 'Africa'),\n ('House of Alireza', 1845, 'Construction', 'Saudi Arabia', 'Asia'),\n ('Bank of Khartoum', 1913, 'Banking & Finance', 'Sudan', 'Africa'),\n ('Dakar–Niger Railway', 1924, 'Aviation & Transport', 'Senegal', 'Africa'),\n ('Singapore Post', 1819, 'Postal Service', 'Singapore', 'Asia'),\n ('Rokel Commercial Bank', 1917, 'Banking & Finance', 'Sierra Leone', 'Africa'),\n ('HSBC El Salvador', 1891, 'Banking & Finance', 'El Salvador', 'North America'),\n ('Radio Mogadishu', 1943, 'Media', 'Somalia', 'Africa'),\n ('Apatin Brewery', 1756, 'Distillers, Vintners, & Breweries', 'Serbia', 'Europe'),\n ('Ivory Bank', 1994, 'Banking & Finance', 'South Sudan', 'Africa'),\n ('Central Bank of São Tomé and Príncipe', 1975, 'Banking & Finance', 'Sao Tome and Principe', 'Africa'),\n ('Kremnica Mint', 1328, 'Manufacturing & Production', 'Slovakia', 'Europe'),\n ('Gostilna Gastuž', 1467, 'Tourism & Hotels', 'Slovenia', 'Europe'),\n ('Skyllbergs bruk', 1346, 'Manufacturing & Production', 'Sweden', 'Europe'),\n ('Swazi Rail', 1963, 'Aviation & Transport', 'Eswatini', 'Africa'),\n ('Air Seychelles', 1977, 'Aviation & Transport', 'Seychelles', 'Asia'),\n ('Bakdash', 1885, 'Cafés, Restaurants & Bars', 'Syrian Arab Republic', 'Asia'),\n ('Cotontchad', 1971, 'Agriculture', 'Chad', 'Africa'),\n ('La Poste du Togo', 1883, 'Postal Service', 'Togo', 'Africa'),\n ('B.Grimm Group', 1878, 'Conglomerate', 'Thailand', 'Asia'),\n ('House of Angostura', 1830, 'Distillers, Vintners, & Breweries', 'Trinidad and Tobago', 'North America'),\n ('La Poste Tunisienne', 1847, 'Postal Service', 'Tunisia', 'Africa'),\n ('Çemberlitaş Hamamı', 1584, 'Tourism & Hotels', 'Turkey', 'Asia'),\n ('Bank of Taiwan', 1897, 'Banking & Finance', 'Taiwan, Province of China', 'Asia'),\n ('Tanzania Breweries Limited', 1933, 'Distillers, Vintners, & Breweries', 'Tanzania, United Republic of', 'Africa'),\n ('Stanbic Bank Uganda Limited', 1906, 'Banking & Finance', 'Uganda', 'Africa'),\n ('Drohobych salt plant', 1250, 'Manufacturing & Production', 'Ukraine', 'Europe'),\n ('Cafe Brasilero', 1877, 'Cafés, Restaurants & Bars', 'Uruguay', 'South America'),\n ('Shirley Plantation', 1638, 'Agriculture', 'United States', 'North America'),\n ('Tashkent Aviation Production Association', 1932, 'Manufacturing & Production', 'Uzbekistan', 'Asia'),\n ('Hacienda Chuao', 1660, 'Food & Beverages', 'Venezuela, Bolivarian Republic of', 'South America'),\n ('Vietnam Railways', 1881, 'Aviation & Transport', 'Viet Nam', 'Asia'),\n ('European Trust Company', 1991, 'Banking & Finance', 'Vanuatu', 'Oceania'),\n ('Yemenia Airways', 1962, 'Aviation & Transport', 'Yemen', 'Asia'),\n ('Premier FMCG', 1820, 'Manufacturing & Production', 'South Africa', 'Africa'),\n ('ZamPost', 1896, 'Postal Service', 'Zambia', 'Africa'),\n ('Standard Chartered Zimbabwe', 1892, 'Banking & Finance', 'Zimbabwe', 'Africa'),\n ('Meridian Corporation', 1999, 'Media', 'Kosovo', 'Europe')]",
            "text/html": "<table>\n    <tr>\n        <th>business</th>\n        <th>year_founded</th>\n        <th>category</th>\n        <th>country</th>\n        <th>continent</th>\n    </tr>\n    <tr>\n        <td>Spinzar Cotton Company</td>\n        <td>1930</td>\n        <td>Agriculture</td>\n        <td>Afghanistan</td>\n        <td>Asia</td>\n    </tr>\n    <tr>\n        <td>ALBtelecom</td>\n        <td>1912</td>\n        <td>Telecommunications</td>\n        <td>Albania</td>\n        <td>Europe</td>\n    </tr>\n    <tr>\n        <td>Andbank</td>\n        <td>1930</td>\n        <td>Banking &amp; Finance</td>\n        <td>Andorra</td>\n        <td>Europe</td>\n    </tr>\n    <tr>\n        <td>Liwa Chemicals</td>\n        <td>1939</td>\n        <td>Manufacturing &amp; Production</td>\n        <td>United Arab Emirates</td>\n        <td>Asia</td>\n    </tr>\n    <tr>\n        <td>Bank of the Province of Buenos Aires</td>\n        <td>1822</td>\n        <td>Banking &amp; Finance</td>\n        <td>Argentina</td>\n        <td>South America</td>\n    </tr>\n    <tr>\n        <td>Yerevan Ararat Brandy-Wine-Vodka Factory</td>\n        <td>1877</td>\n        <td>Distillers, Vintners, &amp; Breweries</td>\n        <td>Armenia</td>\n        <td>Asia</td>\n    </tr>\n    <tr>\n        <td>Australia Post</td>\n        <td>1809</td>\n        <td>Postal Service</td>\n        <td>Australia</td>\n        <td>Oceania</td>\n    </tr>\n    <tr>\n        <td>St. Peter Stifts Kulinarium</td>\n        <td>803</td>\n        <td>Cafés, Restaurants &amp; Bars</td>\n        <td>Austria</td>\n        <td>Europe</td>\n    </tr>\n    <tr>\n        <td>Azerbaijan Caspian Shipping Company</td>\n        <td>1858</td>\n        <td>Aviation &amp; Transport</td>\n        <td>Azerbaijan</td>\n        <td>Asia</td>\n    </tr>\n    <tr>\n        <td>Brarudi</td>\n        <td>1955</td>\n        <td>Distillers, Vintners, &amp; Breweries</td>\n        <td>Burundi</td>\n        <td>Africa</td>\n    </tr>\n    <tr>\n        <td>Affligem Brewery</td>\n        <td>1074</td>\n        <td>Distillers, Vintners, &amp; Breweries</td>\n        <td>Belgium</td>\n        <td>Europe</td>\n    </tr>\n    <tr>\n        <td>Communauté Électrique du Bénin</td>\n        <td>1968</td>\n        <td>Energy</td>\n        <td>Benin</td>\n        <td>Africa</td>\n    </tr>\n    <tr>\n        <td>Air Burkina</td>\n        <td>1967</td>\n        <td>Aviation &amp; Transport</td>\n        <td>Burkina Faso</td>\n        <td>Africa</td>\n    </tr>\n    <tr>\n        <td>M. M. Ispahani Limited</td>\n        <td>1820</td>\n        <td>Food &amp; Beverages</td>\n        <td>Bangladesh</td>\n        <td>Asia</td>\n    </tr>\n    <tr>\n        <td>Arsenal AD</td>\n        <td>1878</td>\n        <td>Defense</td>\n        <td>Bulgaria</td>\n        <td>Europe</td>\n    </tr>\n    <tr>\n        <td>BMMI</td>\n        <td>1883</td>\n        <td>Retail</td>\n        <td>Bahrain</td>\n        <td>Asia</td>\n    </tr>\n    <tr>\n        <td>Sarajevska Pivara</td>\n        <td>1864</td>\n        <td>Distillers, Vintners, &amp; Breweries</td>\n        <td>Bosnia and Herzegovina</td>\n        <td>Europe</td>\n    </tr>\n    <tr>\n        <td>Olivaria Brewery</td>\n        <td>1864</td>\n        <td>Distillers, Vintners, &amp; Breweries</td>\n        <td>Belarus</td>\n        <td>Europe</td>\n    </tr>\n    <tr>\n        <td>Belize Bank</td>\n        <td>1902</td>\n        <td>Banking &amp; Finance</td>\n        <td>Belize</td>\n        <td>North America</td>\n    </tr>\n    <tr>\n        <td>Banco Nacional de Bolivia</td>\n        <td>1871</td>\n        <td>Banking &amp; Finance</td>\n        <td>Bolivia, Plurinational State of</td>\n        <td>South America</td>\n    </tr>\n    <tr>\n        <td>Casa da Moeda do Brasil</td>\n        <td>1694</td>\n        <td>Manufacturing &amp; Production</td>\n        <td>Brazil</td>\n        <td>South America</td>\n    </tr>\n    <tr>\n        <td>Mount Gay Rum</td>\n        <td>1703</td>\n        <td>Distillers, Vintners, &amp; Breweries</td>\n        <td>Barbados</td>\n        <td>North America</td>\n    </tr>\n    <tr>\n        <td>Hua Ho Department Store</td>\n        <td>1947</td>\n        <td>Retail</td>\n        <td>Brunei Darussalam</td>\n        <td>Asia</td>\n    </tr>\n    <tr>\n        <td>Tashi Group</td>\n        <td>1959</td>\n        <td>Aviation &amp; Transport</td>\n        <td>Bhutan</td>\n        <td>Asia</td>\n    </tr>\n    <tr>\n        <td>Botswana Meat Commission</td>\n        <td>1965</td>\n        <td>Agriculture</td>\n        <td>Botswana</td>\n        <td>Africa</td>\n    </tr>\n    <tr>\n        <td>Banque Internationale pour la Centrafrique</td>\n        <td>1946</td>\n        <td>Banking &amp; Finance</td>\n        <td>Central African Republic</td>\n        <td>Africa</td>\n    </tr>\n    <tr>\n        <td>Hudson&#x27;s Bay Company</td>\n        <td>1670</td>\n        <td>Retail</td>\n        <td>Canada</td>\n        <td>North America</td>\n    </tr>\n    <tr>\n        <td>Gasthof Sternen</td>\n        <td>1230</td>\n        <td>Tourism &amp; Hotels</td>\n        <td>Switzerland</td>\n        <td>Europe</td>\n    </tr>\n    <tr>\n        <td>Famae</td>\n        <td>1811</td>\n        <td>Defense</td>\n        <td>Chile</td>\n        <td>South America</td>\n    </tr>\n    <tr>\n        <td>Ma Yu Ching&#x27;s Bucket Chicken House</td>\n        <td>1153</td>\n        <td>Cafés, Restaurants &amp; Bars</td>\n        <td>China</td>\n        <td>Asia</td>\n    </tr>\n    <tr>\n        <td>La Poste</td>\n        <td>1945</td>\n        <td>Postal Service</td>\n        <td>Côte d&#x27;Ivoire</td>\n        <td>Africa</td>\n    </tr>\n    <tr>\n        <td>Cameroon Development Corporation</td>\n        <td>1947</td>\n        <td>Agriculture</td>\n        <td>Cameroon</td>\n        <td>Africa</td>\n    </tr>\n    <tr>\n        <td>Société nationale des Chemins de fer du Congo</td>\n        <td>1889</td>\n        <td>Aviation &amp; Transport</td>\n        <td>Congo, The Democratic Republic of the</td>\n        <td>Africa</td>\n    </tr>\n    <tr>\n        <td>Development Bank of the Central African States</td>\n        <td>1975</td>\n        <td>Banking &amp; Finance</td>\n        <td>Congo</td>\n        <td>Africa</td>\n    </tr>\n    <tr>\n        <td>Casa de Moneda de Colombia</td>\n        <td>1621</td>\n        <td>Manufacturing &amp; Production</td>\n        <td>Colombia</td>\n        <td>South America</td>\n    </tr>\n    <tr>\n        <td>Central Bank of the Comoros</td>\n        <td>1981</td>\n        <td>Banking &amp; Finance</td>\n        <td>Comoros</td>\n        <td>Africa</td>\n    </tr>\n    <tr>\n        <td>Correios de Cabo Verde</td>\n        <td>1849</td>\n        <td>Postal Service</td>\n        <td>Cabo Verde</td>\n        <td>Africa</td>\n    </tr>\n    <tr>\n        <td>Florida Ice and Farm Company</td>\n        <td>1908</td>\n        <td>Distillers, Vintners, &amp; Breweries</td>\n        <td>Costa Rica</td>\n        <td>North America</td>\n    </tr>\n    <tr>\n        <td>Cubana de Aviación</td>\n        <td>1929</td>\n        <td>Aviation &amp; Transport</td>\n        <td>Cuba</td>\n        <td>North America</td>\n    </tr>\n    <tr>\n        <td>Bank of Cyprus</td>\n        <td>1899</td>\n        <td>Banking &amp; Finance</td>\n        <td>Cyprus</td>\n        <td>Europe</td>\n    </tr>\n    <tr>\n        <td>Pivovar Broumov</td>\n        <td>1348</td>\n        <td>Distillers, Vintners, &amp; Breweries</td>\n        <td>Czechia</td>\n        <td>Europe</td>\n    </tr>\n    <tr>\n        <td>Staffelter Hof Winery</td>\n        <td>862</td>\n        <td>Distillers, Vintners, &amp; Breweries</td>\n        <td>Germany</td>\n        <td>Europe</td>\n    </tr>\n    <tr>\n        <td>Ethio-Djibouti Railways</td>\n        <td>1901</td>\n        <td>Aviation &amp; Transport</td>\n        <td>Djibouti</td>\n        <td>Africa</td>\n    </tr>\n    <tr>\n        <td>The Chronicle (Dominica)</td>\n        <td>1909</td>\n        <td>Media</td>\n        <td>Dominica</td>\n        <td>North America</td>\n    </tr>\n    <tr>\n        <td>Munke Mølle</td>\n        <td>1135</td>\n        <td>Manufacturing &amp; Production</td>\n        <td>Denmark</td>\n        <td>Europe</td>\n    </tr>\n    <tr>\n        <td>Hamoud Boualem</td>\n        <td>1878</td>\n        <td>Food &amp; Beverages</td>\n        <td>Algeria</td>\n        <td>Africa</td>\n    </tr>\n    <tr>\n        <td>Egyptian National Railways</td>\n        <td>1854</td>\n        <td>Aviation &amp; Transport</td>\n        <td>Egypt</td>\n        <td>Africa</td>\n    </tr>\n    <tr>\n        <td>Asmara Brewery</td>\n        <td>1939</td>\n        <td>Distillers, Vintners, &amp; Breweries</td>\n        <td>Eritrea</td>\n        <td>Africa</td>\n    </tr>\n    <tr>\n        <td>Casa de Ganaderos</td>\n        <td>1218</td>\n        <td>Agriculture</td>\n        <td>Spain</td>\n        <td>Europe</td>\n    </tr>\n    <tr>\n        <td>Raeapteek</td>\n        <td>1422</td>\n        <td>Medical</td>\n        <td>Estonia</td>\n        <td>Europe</td>\n    </tr>\n    <tr>\n        <td>National Bank of Ethiopia</td>\n        <td>1906</td>\n        <td>Banking &amp; Finance</td>\n        <td>Ethiopia</td>\n        <td>Africa</td>\n    </tr>\n    <tr>\n        <td>Fiskars</td>\n        <td>1649</td>\n        <td>Consumer Goods</td>\n        <td>Finland</td>\n        <td>Europe</td>\n    </tr>\n    <tr>\n        <td>Monnaie de Paris </td>\n        <td>864</td>\n        <td>Manufacturing &amp; Production</td>\n        <td>France</td>\n        <td>Europe</td>\n    </tr>\n    <tr>\n        <td>BGFIBank Group</td>\n        <td>1971</td>\n        <td>Banking &amp; Finance</td>\n        <td>Gabon</td>\n        <td>Africa</td>\n    </tr>\n    <tr>\n        <td>The Royal Mint</td>\n        <td>886</td>\n        <td>Manufacturing &amp; Production</td>\n        <td>United Kingdom</td>\n        <td>Europe</td>\n    </tr>\n    <tr>\n        <td>Bank of Georgia</td>\n        <td>1903</td>\n        <td>Banking &amp; Finance</td>\n        <td>Georgia</td>\n        <td>Asia</td>\n    </tr>\n    <tr>\n        <td>Halco Mining</td>\n        <td>1962</td>\n        <td>Mining</td>\n        <td>Guinea</td>\n        <td>Africa</td>\n    </tr>\n    <tr>\n        <td>Correios da Guiné-Bissau</td>\n        <td>1973</td>\n        <td>Postal Service</td>\n        <td>Guinea-Bissau</td>\n        <td>Africa</td>\n    </tr>\n    <tr>\n        <td>Guinea Ecuatorial Airlines</td>\n        <td>1996</td>\n        <td>Aviation &amp; Transport</td>\n        <td>Equatorial Guinea</td>\n        <td>Africa</td>\n    </tr>\n    <tr>\n        <td>Piraeus Bank</td>\n        <td>1606</td>\n        <td>Banking &amp; Finance</td>\n        <td>Greece</td>\n        <td>Europe</td>\n    </tr>\n    <tr>\n        <td>Corporación Multi Inversiones</td>\n        <td>1920</td>\n        <td>Food &amp; Beverages</td>\n        <td>Guatemala</td>\n        <td>North America</td>\n    </tr>\n    <tr>\n        <td>Banks DIH</td>\n        <td>1840</td>\n        <td>Food &amp; Beverages</td>\n        <td>Guyana</td>\n        <td>South America</td>\n    </tr>\n    <tr>\n        <td>National Railroad of Honduras</td>\n        <td>1870</td>\n        <td>Aviation &amp; Transport</td>\n        <td>Honduras</td>\n        <td>North America</td>\n    </tr>\n    <tr>\n        <td>Kraljevica Shipyard</td>\n        <td>1729</td>\n        <td>Manufacturing &amp; Production</td>\n        <td>Croatia</td>\n        <td>Europe</td>\n    </tr>\n    <tr>\n        <td>Rhum Barbancourt</td>\n        <td>1862</td>\n        <td>Distillers, Vintners, &amp; Breweries</td>\n        <td>Haiti</td>\n        <td>North America</td>\n    </tr>\n    <tr>\n        <td>Zwack</td>\n        <td>1790</td>\n        <td>Distillers, Vintners, &amp; Breweries</td>\n        <td>Hungary</td>\n        <td>Europe</td>\n    </tr>\n    <tr>\n        <td>Pindad</td>\n        <td>1808</td>\n        <td>Defense</td>\n        <td>Indonesia</td>\n        <td>Asia</td>\n    </tr>\n    <tr>\n        <td>Wadia Group</td>\n        <td>1736</td>\n        <td>Manufacturing &amp; Production</td>\n        <td>India</td>\n        <td>Asia</td>\n    </tr>\n    <tr>\n        <td>Sean&#x27;s Bar</td>\n        <td>900</td>\n        <td>Cafés, Restaurants &amp; Bars</td>\n        <td>Ireland</td>\n        <td>Europe</td>\n    </tr>\n    <tr>\n        <td>North Oil Company</td>\n        <td>1928</td>\n        <td>Energy</td>\n        <td>Iraq</td>\n        <td>Asia</td>\n    </tr>\n    <tr>\n        <td>Íslandspóstur</td>\n        <td>1776</td>\n        <td>Postal Service</td>\n        <td>Iceland</td>\n        <td>Europe</td>\n    </tr>\n    <tr>\n        <td>Café Abu Salem</td>\n        <td>1914</td>\n        <td>Cafés, Restaurants &amp; Bars</td>\n        <td>Israel</td>\n        <td>Asia</td>\n    </tr>\n    <tr>\n        <td>Marinelli Bell Foundry</td>\n        <td>1040</td>\n        <td>Manufacturing &amp; Production</td>\n        <td>Italy</td>\n        <td>Europe</td>\n    </tr>\n    <tr>\n        <td>Rose Hall</td>\n        <td>1770</td>\n        <td>Tourism &amp; Hotels</td>\n        <td>Jamaica</td>\n        <td>North America</td>\n    </tr>\n    <tr>\n        <td>Arab Bank</td>\n        <td>1930</td>\n        <td>Banking &amp; Finance</td>\n        <td>Jordan</td>\n        <td>Asia</td>\n    </tr>\n    <tr>\n        <td>Kongō Gumi</td>\n        <td>578</td>\n        <td>Construction</td>\n        <td>Japan</td>\n        <td>Asia</td>\n    </tr>\n    <tr>\n        <td>Bogatyr Access Komir</td>\n        <td>1913</td>\n        <td>Mining</td>\n        <td>Kazakhstan</td>\n        <td>Asia</td>\n    </tr>\n    <tr>\n        <td>KCB Group Limited</td>\n        <td>1896</td>\n        <td>Banking &amp; Finance</td>\n        <td>Kenya</td>\n        <td>Africa</td>\n    </tr>\n    <tr>\n        <td>National Bank of Cambodia</td>\n        <td>1954</td>\n        <td>Banking &amp; Finance</td>\n        <td>Cambodia</td>\n        <td>Asia</td>\n    </tr>\n    <tr>\n        <td>KT Corporation</td>\n        <td>1885</td>\n        <td>Telecommunications</td>\n        <td>Korea, Republic of</td>\n        <td>Asia</td>\n    </tr>\n    <tr>\n        <td>M.H. Alshaya Co.</td>\n        <td>1890</td>\n        <td>Retail</td>\n        <td>Kuwait</td>\n        <td>Asia</td>\n    </tr>\n    <tr>\n        <td>Electricite du Laos</td>\n        <td>1959</td>\n        <td>Energy</td>\n        <td>Lao People&#x27;s Democratic Republic</td>\n        <td>Asia</td>\n    </tr>\n    <tr>\n        <td>Bank Audi</td>\n        <td>1830</td>\n        <td>Banking &amp; Finance</td>\n        <td>Lebanon</td>\n        <td>Asia</td>\n    </tr>\n    <tr>\n        <td>National Port Authority</td>\n        <td>1921</td>\n        <td>Aviation &amp; Transport</td>\n        <td>Liberia</td>\n        <td>Africa</td>\n    </tr>\n    <tr>\n        <td>Umma Bank</td>\n        <td>1907</td>\n        <td>Banking &amp; Finance</td>\n        <td>Libya</td>\n        <td>Africa</td>\n    </tr>\n    <tr>\n        <td>1st National Bank of St Lucia</td>\n        <td>1938</td>\n        <td>Banking &amp; Finance</td>\n        <td>Saint Lucia</td>\n        <td>North America</td>\n    </tr>\n    <tr>\n        <td>National Bank of Liechtenstein</td>\n        <td>1861</td>\n        <td>Banking &amp; Finance</td>\n        <td>Liechtenstein</td>\n        <td>Europe</td>\n    </tr>\n    <tr>\n        <td>George Steuart Group</td>\n        <td>1835</td>\n        <td>Food &amp; Beverages</td>\n        <td>Sri Lanka</td>\n        <td>Asia</td>\n    </tr>\n    <tr>\n        <td>Central Bank of Lesotho</td>\n        <td>1978</td>\n        <td>Banking &amp; Finance</td>\n        <td>Lesotho</td>\n        <td>Africa</td>\n    </tr>\n    <tr>\n        <td>Gubernija</td>\n        <td>1665</td>\n        <td>Distillers, Vintners, &amp; Breweries</td>\n        <td>Lithuania</td>\n        <td>Europe</td>\n    </tr>\n    <tr>\n        <td>Mousel</td>\n        <td>1511</td>\n        <td>Distillers, Vintners, &amp; Breweries</td>\n        <td>Luxembourg</td>\n        <td>Europe</td>\n    </tr>\n    <tr>\n        <td>Cēsu Alus</td>\n        <td>1590</td>\n        <td>Distillers, Vintners, &amp; Breweries</td>\n        <td>Latvia</td>\n        <td>Europe</td>\n    </tr>\n    <tr>\n        <td>Attijariwafa Bank</td>\n        <td>1904</td>\n        <td>Banking &amp; Finance</td>\n        <td>Morocco</td>\n        <td>Africa</td>\n    </tr>\n    <tr>\n        <td>Air Madagascar</td>\n        <td>1962</td>\n        <td>Aviation &amp; Transport</td>\n        <td>Madagascar</td>\n        <td>Africa</td>\n    </tr>\n    <tr>\n        <td>La Casa de Moneda de México</td>\n        <td>1534</td>\n        <td>Manufacturing &amp; Production</td>\n        <td>Mexico</td>\n        <td>North America</td>\n    </tr>\n    <tr>\n        <td>Tutunski kombinat Prilep</td>\n        <td>1873</td>\n        <td>Consumer Goods</td>\n        <td>North Macedonia</td>\n        <td>Europe</td>\n    </tr>\n    <tr>\n        <td>Office de Radiodiffusion-Télévision du Mali</td>\n        <td>1957</td>\n        <td>Media</td>\n        <td>Mali</td>\n        <td>Africa</td>\n    </tr>\n    <tr>\n        <td>HSBC Bank Malta</td>\n        <td>1882</td>\n        <td>Banking &amp; Finance</td>\n        <td>Malta</td>\n        <td>Europe</td>\n    </tr>\n    <tr>\n        <td>Myanmar National Airlines</td>\n        <td>1948</td>\n        <td>Aviation &amp; Transport</td>\n        <td>Myanmar</td>\n        <td>Asia</td>\n    </tr>\n    <tr>\n        <td>Pošta Crne Gore</td>\n        <td>1841</td>\n        <td>Postal Service</td>\n        <td>Montenegro</td>\n        <td>Europe</td>\n    </tr>\n    <tr>\n        <td>Mongolian National Broadcaster</td>\n        <td>1931</td>\n        <td>Media</td>\n        <td>Mongolia</td>\n        <td>Asia</td>\n    </tr>\n    <tr>\n        <td>Beira Railroad Corporation</td>\n        <td>1892</td>\n        <td>Aviation &amp; Transport</td>\n        <td>Mozambique</td>\n        <td>Africa</td>\n    </tr>\n    <tr>\n        <td>Central Bank of Mauritania</td>\n        <td>1973</td>\n        <td>Banking &amp; Finance</td>\n        <td>Mauritania</td>\n        <td>Africa</td>\n    </tr>\n    <tr>\n        <td>Mauritius Post</td>\n        <td>1772</td>\n        <td>Postal Service</td>\n        <td>Mauritius</td>\n        <td>Africa</td>\n    </tr>\n    <tr>\n        <td>Malawi Broadcasting Corporation</td>\n        <td>1964</td>\n        <td>Media</td>\n        <td>Malawi</td>\n        <td>Africa</td>\n    </tr>\n    <tr>\n        <td>Pos Malaysia</td>\n        <td>1800</td>\n        <td>Postal Service</td>\n        <td>Malaysia</td>\n        <td>Asia</td>\n    </tr>\n    <tr>\n        <td>NamPost</td>\n        <td>1814</td>\n        <td>Postal Service</td>\n        <td>Namibia</td>\n        <td>Africa</td>\n    </tr>\n    <tr>\n        <td>Office of Radio and Television of Niger</td>\n        <td>1960</td>\n        <td>Media</td>\n        <td>Niger</td>\n        <td>Africa</td>\n    </tr>\n    <tr>\n        <td>First Bank of Nigeria</td>\n        <td>1894</td>\n        <td>Banking &amp; Finance</td>\n        <td>Nigeria</td>\n        <td>Africa</td>\n    </tr>\n    <tr>\n        <td>Flor de Caña</td>\n        <td>1890</td>\n        <td>Distillers, Vintners, &amp; Breweries</td>\n        <td>Nicaragua</td>\n        <td>North America</td>\n    </tr>\n    <tr>\n        <td>The Brand Brewery</td>\n        <td>1340</td>\n        <td>Distillers, Vintners, &amp; Breweries</td>\n        <td>Netherlands</td>\n        <td>Europe</td>\n    </tr>\n    <tr>\n        <td>Posten Norge</td>\n        <td>1647</td>\n        <td>Postal Service</td>\n        <td>Norway</td>\n        <td>Europe</td>\n    </tr>\n    <tr>\n        <td>Nepal Bank Limited</td>\n        <td>1937</td>\n        <td>Banking &amp; Finance</td>\n        <td>Nepal</td>\n        <td>Asia</td>\n    </tr>\n    <tr>\n        <td>Bank of New Zealand</td>\n        <td>1861</td>\n        <td>Banking &amp; Finance</td>\n        <td>New Zealand</td>\n        <td>Oceania</td>\n    </tr>\n    <tr>\n        <td>Petroleum Development Oman</td>\n        <td>1937</td>\n        <td>Energy</td>\n        <td>Oman</td>\n        <td>Asia</td>\n    </tr>\n    <tr>\n        <td>House of Habib</td>\n        <td>1841</td>\n        <td>Conglomerate</td>\n        <td>Pakistan</td>\n        <td>Asia</td>\n    </tr>\n    <tr>\n        <td>National Bank of Panama</td>\n        <td>1904</td>\n        <td>Banking &amp; Finance</td>\n        <td>Panama</td>\n        <td>North America</td>\n    </tr>\n    <tr>\n        <td>Casa Nacional de Moneda</td>\n        <td>1565</td>\n        <td>Banking &amp; Finance</td>\n        <td>Peru</td>\n        <td>South America</td>\n    </tr>\n    <tr>\n        <td>Destileria Limtuaco</td>\n        <td>1853</td>\n        <td>Distillers, Vintners, &amp; Breweries</td>\n        <td>Philippines</td>\n        <td>Asia</td>\n    </tr>\n    <tr>\n        <td>Bochnia Salt Mine</td>\n        <td>1248</td>\n        <td>Mining</td>\n        <td>Poland</td>\n        <td>Europe</td>\n    </tr>\n    <tr>\n        <td>Kim Chong-t&#x27;ae Electric Locomotive Works</td>\n        <td>1945</td>\n        <td>Aviation &amp; Transport</td>\n        <td>Korea, Democratic People&#x27;s Republic of</td>\n        <td>Asia</td>\n    </tr>\n    <tr>\n        <td>CTT-Correios de Portugal SA</td>\n        <td>1520</td>\n        <td>Postal Service</td>\n        <td>Portugal</td>\n        <td>Europe</td>\n    </tr>\n    <tr>\n        <td>Salam International Investment Limited</td>\n        <td>1952</td>\n        <td>Conglomerate</td>\n        <td>Qatar</td>\n        <td>Asia</td>\n    </tr>\n    <tr>\n        <td>Ursus Breweries</td>\n        <td>1878</td>\n        <td>Distillers, Vintners, &amp; Breweries</td>\n        <td>Romania</td>\n        <td>Europe</td>\n    </tr>\n    <tr>\n        <td>Petrodvorets Watch Factory</td>\n        <td>1721</td>\n        <td>Consumer Goods</td>\n        <td>Russian Federation</td>\n        <td>Europe</td>\n    </tr>\n    <tr>\n        <td>National Post Office</td>\n        <td>1922</td>\n        <td>Postal Service</td>\n        <td>Rwanda</td>\n        <td>Africa</td>\n    </tr>\n    <tr>\n        <td>House of Alireza</td>\n        <td>1845</td>\n        <td>Construction</td>\n        <td>Saudi Arabia</td>\n        <td>Asia</td>\n    </tr>\n    <tr>\n        <td>Bank of Khartoum</td>\n        <td>1913</td>\n        <td>Banking &amp; Finance</td>\n        <td>Sudan</td>\n        <td>Africa</td>\n    </tr>\n    <tr>\n        <td>Dakar–Niger Railway</td>\n        <td>1924</td>\n        <td>Aviation &amp; Transport</td>\n        <td>Senegal</td>\n        <td>Africa</td>\n    </tr>\n    <tr>\n        <td>Singapore Post</td>\n        <td>1819</td>\n        <td>Postal Service</td>\n        <td>Singapore</td>\n        <td>Asia</td>\n    </tr>\n    <tr>\n        <td>Rokel Commercial Bank</td>\n        <td>1917</td>\n        <td>Banking &amp; Finance</td>\n        <td>Sierra Leone</td>\n        <td>Africa</td>\n    </tr>\n    <tr>\n        <td>HSBC El Salvador</td>\n        <td>1891</td>\n        <td>Banking &amp; Finance</td>\n        <td>El Salvador</td>\n        <td>North America</td>\n    </tr>\n    <tr>\n        <td>Radio Mogadishu</td>\n        <td>1943</td>\n        <td>Media</td>\n        <td>Somalia</td>\n        <td>Africa</td>\n    </tr>\n    <tr>\n        <td>Apatin Brewery</td>\n        <td>1756</td>\n        <td>Distillers, Vintners, &amp; Breweries</td>\n        <td>Serbia</td>\n        <td>Europe</td>\n    </tr>\n    <tr>\n        <td>Ivory Bank</td>\n        <td>1994</td>\n        <td>Banking &amp; Finance</td>\n        <td>South Sudan</td>\n        <td>Africa</td>\n    </tr>\n    <tr>\n        <td>Central Bank of São Tomé and Príncipe</td>\n        <td>1975</td>\n        <td>Banking &amp; Finance</td>\n        <td>Sao Tome and Principe</td>\n        <td>Africa</td>\n    </tr>\n    <tr>\n        <td>Kremnica Mint</td>\n        <td>1328</td>\n        <td>Manufacturing &amp; Production</td>\n        <td>Slovakia</td>\n        <td>Europe</td>\n    </tr>\n    <tr>\n        <td>Gostilna Gastuž</td>\n        <td>1467</td>\n        <td>Tourism &amp; Hotels</td>\n        <td>Slovenia</td>\n        <td>Europe</td>\n    </tr>\n    <tr>\n        <td>Skyllbergs bruk</td>\n        <td>1346</td>\n        <td>Manufacturing &amp; Production</td>\n        <td>Sweden</td>\n        <td>Europe</td>\n    </tr>\n    <tr>\n        <td>Swazi Rail</td>\n        <td>1963</td>\n        <td>Aviation &amp; Transport</td>\n        <td>Eswatini</td>\n        <td>Africa</td>\n    </tr>\n    <tr>\n        <td>Air Seychelles</td>\n        <td>1977</td>\n        <td>Aviation &amp; Transport</td>\n        <td>Seychelles</td>\n        <td>Asia</td>\n    </tr>\n    <tr>\n        <td>Bakdash</td>\n        <td>1885</td>\n        <td>Cafés, Restaurants &amp; Bars</td>\n        <td>Syrian Arab Republic</td>\n        <td>Asia</td>\n    </tr>\n    <tr>\n        <td>Cotontchad</td>\n        <td>1971</td>\n        <td>Agriculture</td>\n        <td>Chad</td>\n        <td>Africa</td>\n    </tr>\n    <tr>\n        <td>La Poste du Togo</td>\n        <td>1883</td>\n        <td>Postal Service</td>\n        <td>Togo</td>\n        <td>Africa</td>\n    </tr>\n    <tr>\n        <td>B.Grimm Group</td>\n        <td>1878</td>\n        <td>Conglomerate</td>\n        <td>Thailand</td>\n        <td>Asia</td>\n    </tr>\n    <tr>\n        <td>House of Angostura</td>\n        <td>1830</td>\n        <td>Distillers, Vintners, &amp; Breweries</td>\n        <td>Trinidad and Tobago</td>\n        <td>North America</td>\n    </tr>\n    <tr>\n        <td>La Poste Tunisienne</td>\n        <td>1847</td>\n        <td>Postal Service</td>\n        <td>Tunisia</td>\n        <td>Africa</td>\n    </tr>\n    <tr>\n        <td>Çemberlitaş Hamamı</td>\n        <td>1584</td>\n        <td>Tourism &amp; Hotels</td>\n        <td>Turkey</td>\n        <td>Asia</td>\n    </tr>\n    <tr>\n        <td>Bank of Taiwan</td>\n        <td>1897</td>\n        <td>Banking &amp; Finance</td>\n        <td>Taiwan, Province of China</td>\n        <td>Asia</td>\n    </tr>\n    <tr>\n        <td>Tanzania Breweries Limited</td>\n        <td>1933</td>\n        <td>Distillers, Vintners, &amp; Breweries</td>\n        <td>Tanzania, United Republic of</td>\n        <td>Africa</td>\n    </tr>\n    <tr>\n        <td>Stanbic Bank Uganda Limited</td>\n        <td>1906</td>\n        <td>Banking &amp; Finance</td>\n        <td>Uganda</td>\n        <td>Africa</td>\n    </tr>\n    <tr>\n        <td>Drohobych salt plant</td>\n        <td>1250</td>\n        <td>Manufacturing &amp; Production</td>\n        <td>Ukraine</td>\n        <td>Europe</td>\n    </tr>\n    <tr>\n        <td>Cafe Brasilero</td>\n        <td>1877</td>\n        <td>Cafés, Restaurants &amp; Bars</td>\n        <td>Uruguay</td>\n        <td>South America</td>\n    </tr>\n    <tr>\n        <td>Shirley Plantation</td>\n        <td>1638</td>\n        <td>Agriculture</td>\n        <td>United States</td>\n        <td>North America</td>\n    </tr>\n    <tr>\n        <td>Tashkent Aviation Production Association</td>\n        <td>1932</td>\n        <td>Manufacturing &amp; Production</td>\n        <td>Uzbekistan</td>\n        <td>Asia</td>\n    </tr>\n    <tr>\n        <td>Hacienda Chuao</td>\n        <td>1660</td>\n        <td>Food &amp; Beverages</td>\n        <td>Venezuela, Bolivarian Republic of</td>\n        <td>South America</td>\n    </tr>\n    <tr>\n        <td>Vietnam Railways</td>\n        <td>1881</td>\n        <td>Aviation &amp; Transport</td>\n        <td>Viet Nam</td>\n        <td>Asia</td>\n    </tr>\n    <tr>\n        <td>European Trust Company</td>\n        <td>1991</td>\n        <td>Banking &amp; Finance</td>\n        <td>Vanuatu</td>\n        <td>Oceania</td>\n    </tr>\n    <tr>\n        <td>Yemenia Airways</td>\n        <td>1962</td>\n        <td>Aviation &amp; Transport</td>\n        <td>Yemen</td>\n        <td>Asia</td>\n    </tr>\n    <tr>\n        <td>Premier FMCG</td>\n        <td>1820</td>\n        <td>Manufacturing &amp; Production</td>\n        <td>South Africa</td>\n        <td>Africa</td>\n    </tr>\n    <tr>\n        <td>ZamPost</td>\n        <td>1896</td>\n        <td>Postal Service</td>\n        <td>Zambia</td>\n        <td>Africa</td>\n    </tr>\n    <tr>\n        <td>Standard Chartered Zimbabwe</td>\n        <td>1892</td>\n        <td>Banking &amp; Finance</td>\n        <td>Zimbabwe</td>\n        <td>Africa</td>\n    </tr>\n    <tr>\n        <td>Meridian Corporation</td>\n        <td>1999</td>\n        <td>Media</td>\n        <td>Kosovo</td>\n        <td>Europe</td>\n    </tr>\n</table>"
          },
          "metadata": {}
        }
      ]
    },
    {
      "metadata": {
        "dc": {
          "key": "47"
        },
        "trusted": true,
        "collapsed": true,
        "id": "6Ujnb-mSzK9a"
      },
      "cell_type": "code",
      "source": [
        ""
      ],
      "execution_count": null,
      "outputs": []
    },
    {
      "metadata": {
        "dc": {
          "key": "54"
        },
        "deletable": false,
        "editable": false,
        "run_control": {
          "frozen": true
        },
        "tags": [
          "context"
        ],
        "id": "xe0yXscezK9b"
      },
      "cell_type": "markdown",
      "source": [
        "## 8. Counting categories by continent\n",
        "<p>Having <code>businesses</code> joined to <code>categories</code> and <code>countries</code> together means we can ask questions about both these things together. For example, which are the most common categories for the oldest businesses on each continent?</p>"
      ]
    },
    {
      "metadata": {
        "dc": {
          "key": "54"
        },
        "tags": [
          "sample_code"
        ],
        "trusted": true,
        "id": "xGmNwROyzK9d",
        "outputId": "b203c1ac-ad61-4132-d779-3b70c0e2f0db"
      },
      "cell_type": "code",
      "source": [
        "%%sql\n",
        "\n",
        "-- Count the number of businesses in each continent and category\n",
        "SELECT cnt.continent, cat.category, COUNT(*) AS n\n",
        "    FROM businesses AS bus\n",
        "    INNER JOIN categories as cat\n",
        "        ON bus.category_code = cat.category_code\n",
        "    INNER JOIN countries as cnt\n",
        "        ON bus.country_code = cnt.country_code\n",
        "    GROUP BY cnt.continent, cat.category;"
      ],
      "execution_count": null,
      "outputs": [
        {
          "output_type": "stream",
          "text": " * postgresql:///oldestbusinesses\n56 rows affected.\n",
          "name": "stdout"
        },
        {
          "output_type": "execute_result",
          "execution_count": 58,
          "data": {
            "text/plain": "[('North America', 'Banking & Finance', 4),\n ('Oceania', 'Postal Service', 1),\n ('South America', 'Food & Beverages', 2),\n ('Europe', 'Tourism & Hotels', 2),\n ('Asia', 'Media', 1),\n ('Europe', 'Medical', 1),\n ('Asia', 'Defense', 1),\n ('Africa', 'Manufacturing & Production', 1),\n ('Europe', 'Postal Service', 4),\n ('North America', 'Aviation & Transport', 2),\n ('Asia', 'Distillers, Vintners, & Breweries', 2),\n ('South America', 'Banking & Finance', 3),\n ('North America', 'Food & Beverages', 1),\n ('Europe', 'Manufacturing & Production', 8),\n ('Africa', 'Postal Service', 9),\n ('Asia', 'Telecommunications', 1),\n ('Africa', 'Food & Beverages', 1),\n ('Europe', 'Consumer Goods', 3),\n ('Europe', 'Mining', 1),\n ('Oceania', 'Banking & Finance', 2),\n ('Asia', 'Agriculture', 1),\n ('North America', 'Manufacturing & Production', 1),\n ('Africa', 'Mining', 1),\n ('Africa', 'Aviation & Transport', 10),\n ('Asia', 'Construction', 2),\n ('Asia', 'Energy', 3),\n ('Asia', 'Retail', 3),\n ('South America', 'Manufacturing & Production', 2),\n ('Asia', 'Cafés, Restaurants & Bars', 3),\n ('Europe', 'Banking & Finance', 5),\n ('Africa', 'Banking & Finance', 17),\n ('North America', 'Tourism & Hotels', 1),\n ('Europe', 'Cafés, Restaurants & Bars', 2),\n ('Asia', 'Banking & Finance', 6),\n ('South America', 'Defense', 1),\n ('Africa', 'Energy', 1),\n ('Asia', 'Conglomerate', 3),\n ('North America', 'Media', 1),\n ('Europe', 'Agriculture', 1),\n ('Asia', 'Mining', 1),\n ('Asia', 'Aviation & Transport', 7),\n ('Asia', 'Food & Beverages', 2),\n ('North America', 'Distillers, Vintners, & Breweries', 5),\n ('Africa', 'Agriculture', 3),\n ('Africa', 'Distillers, Vintners, & Breweries', 3),\n ('North America', 'Agriculture', 1),\n ('Asia', 'Postal Service', 2),\n ('Europe', 'Defense', 1),\n ('Asia', 'Manufacturing & Production', 3),\n ('Europe', 'Telecommunications', 1),\n ('Europe', 'Distillers, Vintners, & Breweries', 12),\n ('South America', 'Cafés, Restaurants & Bars', 1),\n ('North America', 'Retail', 1),\n ('Africa', 'Media', 4),\n ('Europe', 'Media', 1),\n ('Asia', 'Tourism & Hotels', 1)]",
            "text/html": "<table>\n    <tr>\n        <th>continent</th>\n        <th>category</th>\n        <th>n</th>\n    </tr>\n    <tr>\n        <td>North America</td>\n        <td>Banking &amp; Finance</td>\n        <td>4</td>\n    </tr>\n    <tr>\n        <td>Oceania</td>\n        <td>Postal Service</td>\n        <td>1</td>\n    </tr>\n    <tr>\n        <td>South America</td>\n        <td>Food &amp; Beverages</td>\n        <td>2</td>\n    </tr>\n    <tr>\n        <td>Europe</td>\n        <td>Tourism &amp; Hotels</td>\n        <td>2</td>\n    </tr>\n    <tr>\n        <td>Asia</td>\n        <td>Media</td>\n        <td>1</td>\n    </tr>\n    <tr>\n        <td>Europe</td>\n        <td>Medical</td>\n        <td>1</td>\n    </tr>\n    <tr>\n        <td>Asia</td>\n        <td>Defense</td>\n        <td>1</td>\n    </tr>\n    <tr>\n        <td>Africa</td>\n        <td>Manufacturing &amp; Production</td>\n        <td>1</td>\n    </tr>\n    <tr>\n        <td>Europe</td>\n        <td>Postal Service</td>\n        <td>4</td>\n    </tr>\n    <tr>\n        <td>North America</td>\n        <td>Aviation &amp; Transport</td>\n        <td>2</td>\n    </tr>\n    <tr>\n        <td>Asia</td>\n        <td>Distillers, Vintners, &amp; Breweries</td>\n        <td>2</td>\n    </tr>\n    <tr>\n        <td>South America</td>\n        <td>Banking &amp; Finance</td>\n        <td>3</td>\n    </tr>\n    <tr>\n        <td>North America</td>\n        <td>Food &amp; Beverages</td>\n        <td>1</td>\n    </tr>\n    <tr>\n        <td>Europe</td>\n        <td>Manufacturing &amp; Production</td>\n        <td>8</td>\n    </tr>\n    <tr>\n        <td>Africa</td>\n        <td>Postal Service</td>\n        <td>9</td>\n    </tr>\n    <tr>\n        <td>Asia</td>\n        <td>Telecommunications</td>\n        <td>1</td>\n    </tr>\n    <tr>\n        <td>Africa</td>\n        <td>Food &amp; Beverages</td>\n        <td>1</td>\n    </tr>\n    <tr>\n        <td>Europe</td>\n        <td>Consumer Goods</td>\n        <td>3</td>\n    </tr>\n    <tr>\n        <td>Europe</td>\n        <td>Mining</td>\n        <td>1</td>\n    </tr>\n    <tr>\n        <td>Oceania</td>\n        <td>Banking &amp; Finance</td>\n        <td>2</td>\n    </tr>\n    <tr>\n        <td>Asia</td>\n        <td>Agriculture</td>\n        <td>1</td>\n    </tr>\n    <tr>\n        <td>North America</td>\n        <td>Manufacturing &amp; Production</td>\n        <td>1</td>\n    </tr>\n    <tr>\n        <td>Africa</td>\n        <td>Mining</td>\n        <td>1</td>\n    </tr>\n    <tr>\n        <td>Africa</td>\n        <td>Aviation &amp; Transport</td>\n        <td>10</td>\n    </tr>\n    <tr>\n        <td>Asia</td>\n        <td>Construction</td>\n        <td>2</td>\n    </tr>\n    <tr>\n        <td>Asia</td>\n        <td>Energy</td>\n        <td>3</td>\n    </tr>\n    <tr>\n        <td>Asia</td>\n        <td>Retail</td>\n        <td>3</td>\n    </tr>\n    <tr>\n        <td>South America</td>\n        <td>Manufacturing &amp; Production</td>\n        <td>2</td>\n    </tr>\n    <tr>\n        <td>Asia</td>\n        <td>Cafés, Restaurants &amp; Bars</td>\n        <td>3</td>\n    </tr>\n    <tr>\n        <td>Europe</td>\n        <td>Banking &amp; Finance</td>\n        <td>5</td>\n    </tr>\n    <tr>\n        <td>Africa</td>\n        <td>Banking &amp; Finance</td>\n        <td>17</td>\n    </tr>\n    <tr>\n        <td>North America</td>\n        <td>Tourism &amp; Hotels</td>\n        <td>1</td>\n    </tr>\n    <tr>\n        <td>Europe</td>\n        <td>Cafés, Restaurants &amp; Bars</td>\n        <td>2</td>\n    </tr>\n    <tr>\n        <td>Asia</td>\n        <td>Banking &amp; Finance</td>\n        <td>6</td>\n    </tr>\n    <tr>\n        <td>South America</td>\n        <td>Defense</td>\n        <td>1</td>\n    </tr>\n    <tr>\n        <td>Africa</td>\n        <td>Energy</td>\n        <td>1</td>\n    </tr>\n    <tr>\n        <td>Asia</td>\n        <td>Conglomerate</td>\n        <td>3</td>\n    </tr>\n    <tr>\n        <td>North America</td>\n        <td>Media</td>\n        <td>1</td>\n    </tr>\n    <tr>\n        <td>Europe</td>\n        <td>Agriculture</td>\n        <td>1</td>\n    </tr>\n    <tr>\n        <td>Asia</td>\n        <td>Mining</td>\n        <td>1</td>\n    </tr>\n    <tr>\n        <td>Asia</td>\n        <td>Aviation &amp; Transport</td>\n        <td>7</td>\n    </tr>\n    <tr>\n        <td>Asia</td>\n        <td>Food &amp; Beverages</td>\n        <td>2</td>\n    </tr>\n    <tr>\n        <td>North America</td>\n        <td>Distillers, Vintners, &amp; Breweries</td>\n        <td>5</td>\n    </tr>\n    <tr>\n        <td>Africa</td>\n        <td>Agriculture</td>\n        <td>3</td>\n    </tr>\n    <tr>\n        <td>Africa</td>\n        <td>Distillers, Vintners, &amp; Breweries</td>\n        <td>3</td>\n    </tr>\n    <tr>\n        <td>North America</td>\n        <td>Agriculture</td>\n        <td>1</td>\n    </tr>\n    <tr>\n        <td>Asia</td>\n        <td>Postal Service</td>\n        <td>2</td>\n    </tr>\n    <tr>\n        <td>Europe</td>\n        <td>Defense</td>\n        <td>1</td>\n    </tr>\n    <tr>\n        <td>Asia</td>\n        <td>Manufacturing &amp; Production</td>\n        <td>3</td>\n    </tr>\n    <tr>\n        <td>Europe</td>\n        <td>Telecommunications</td>\n        <td>1</td>\n    </tr>\n    <tr>\n        <td>Europe</td>\n        <td>Distillers, Vintners, &amp; Breweries</td>\n        <td>12</td>\n    </tr>\n    <tr>\n        <td>South America</td>\n        <td>Cafés, Restaurants &amp; Bars</td>\n        <td>1</td>\n    </tr>\n    <tr>\n        <td>North America</td>\n        <td>Retail</td>\n        <td>1</td>\n    </tr>\n    <tr>\n        <td>Africa</td>\n        <td>Media</td>\n        <td>4</td>\n    </tr>\n    <tr>\n        <td>Europe</td>\n        <td>Media</td>\n        <td>1</td>\n    </tr>\n    <tr>\n        <td>Asia</td>\n        <td>Tourism &amp; Hotels</td>\n        <td>1</td>\n    </tr>\n</table>"
          },
          "metadata": {}
        }
      ]
    },
    {
      "metadata": {
        "dc": {
          "key": "54"
        },
        "trusted": true,
        "collapsed": true,
        "id": "GXQHqDOwzK9f"
      },
      "cell_type": "code",
      "source": [
        ""
      ],
      "execution_count": null,
      "outputs": []
    },
    {
      "metadata": {
        "dc": {
          "key": "61"
        },
        "deletable": false,
        "editable": false,
        "run_control": {
          "frozen": true
        },
        "tags": [
          "context"
        ],
        "id": "Yi7ieeJgzK9j"
      },
      "cell_type": "markdown",
      "source": [
        "## 9. Filtering counts by continent and category\n",
        "<p>Combining continent and business category led to a lot of results. It's difficult to see what is important. To trim this down to a manageable size, let's restrict the results to only continent/category pairs with a high count.</p>"
      ]
    },
    {
      "metadata": {
        "dc": {
          "key": "61"
        },
        "tags": [
          "sample_code"
        ],
        "trusted": true,
        "id": "AFGljBKvzK9k",
        "outputId": "fca949d1-8240-428b-f1bf-70f5f08b48c7"
      },
      "cell_type": "code",
      "source": [
        "%%sql\n",
        "\n",
        "-- Repeat that previous query, filtering for results having a count greater than 5\n",
        "SELECT cnt.continent, cat.category, COUNT(*) AS n\n",
        "    FROM businesses AS bus\n",
        "    INNER JOIN categories as cat\n",
        "        ON bus.category_code = cat.category_code\n",
        "    INNER JOIN countries as cnt\n",
        "        ON bus.country_code = cnt.country_code\n",
        "    \n",
        "    GROUP BY cnt.continent, cat.category\n",
        "    having  count(*) > 5\n",
        "    order by n desc"
      ],
      "execution_count": null,
      "outputs": [
        {
          "output_type": "stream",
          "text": " * postgresql:///oldestbusinesses\n7 rows affected.\n",
          "name": "stdout"
        },
        {
          "output_type": "execute_result",
          "execution_count": 60,
          "data": {
            "text/plain": "[('Africa', 'Banking & Finance', 17),\n ('Europe', 'Distillers, Vintners, & Breweries', 12),\n ('Africa', 'Aviation & Transport', 10),\n ('Africa', 'Postal Service', 9),\n ('Europe', 'Manufacturing & Production', 8),\n ('Asia', 'Aviation & Transport', 7),\n ('Asia', 'Banking & Finance', 6)]",
            "text/html": "<table>\n    <tr>\n        <th>continent</th>\n        <th>category</th>\n        <th>n</th>\n    </tr>\n    <tr>\n        <td>Africa</td>\n        <td>Banking &amp; Finance</td>\n        <td>17</td>\n    </tr>\n    <tr>\n        <td>Europe</td>\n        <td>Distillers, Vintners, &amp; Breweries</td>\n        <td>12</td>\n    </tr>\n    <tr>\n        <td>Africa</td>\n        <td>Aviation &amp; Transport</td>\n        <td>10</td>\n    </tr>\n    <tr>\n        <td>Africa</td>\n        <td>Postal Service</td>\n        <td>9</td>\n    </tr>\n    <tr>\n        <td>Europe</td>\n        <td>Manufacturing &amp; Production</td>\n        <td>8</td>\n    </tr>\n    <tr>\n        <td>Asia</td>\n        <td>Aviation &amp; Transport</td>\n        <td>7</td>\n    </tr>\n    <tr>\n        <td>Asia</td>\n        <td>Banking &amp; Finance</td>\n        <td>6</td>\n    </tr>\n</table>"
          },
          "metadata": {}
        }
      ]
    }
  ],
  "metadata": {
    "kernelspec": {
      "name": "python3",
      "display_name": "Python 3",
      "language": "python"
    },
    "language_info": {
      "name": "python",
      "version": "3.6.7",
      "mimetype": "text/x-python",
      "codemirror_mode": {
        "name": "ipython",
        "version": 3
      },
      "pygments_lexer": "ipython3",
      "nbconvert_exporter": "python",
      "file_extension": ".py"
    },
    "colab": {
      "name": "SQL project: Analysis of Oldest businesses in histo.ipynb",
      "provenance": [],
      "collapsed_sections": [
        "fG1RBdx_zK9J",
        "UitHelJOzK9R",
        "ObXMsf2ozK9W"
      ],
      "include_colab_link": true
    }
  },
  "nbformat": 4,
  "nbformat_minor": 0
}